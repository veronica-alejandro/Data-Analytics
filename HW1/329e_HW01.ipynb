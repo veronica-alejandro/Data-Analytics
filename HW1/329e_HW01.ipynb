{
 "cells": [
  {
   "cell_type": "markdown",
   "metadata": {},
   "source": [
    "# Assignment 1  - Melbourne Housing Dataset\n",
    "\n",
    "Practice Loading in Data  (20 Points)\n",
    "\n",
    "Please see the CANVAS system for the due date of this assignment. \n",
    "\n",
    "## Add YOUR NAME/S HERE !\n",
    "\n",
    "- Student Name: Veronica Alejandro\n",
    "- Student UT EID: vaa678\n",
    "\n",
    "\n",
    "- Partner Name: Tori Garfield\n",
    "- Partner UT EID: teg755"
   ]
  },
  {
   "cell_type": "code",
   "execution_count": 15,
   "metadata": {},
   "outputs": [],
   "source": [
    "# Imports first on top \n",
    "import pandas as pd\n",
    "import matplotlib.pyplot as plt\n",
    "import numpy as np"
   ]
  },
  {
   "cell_type": "markdown",
   "metadata": {},
   "source": [
    "First of all, we load the data from a CSV file into the manin memory in a Pandas Dataframe format. "
   ]
  },
  {
   "cell_type": "code",
   "execution_count": 16,
   "metadata": {},
   "outputs": [
    {
     "data": {
      "text/html": [
       "<div>\n",
       "<style scoped>\n",
       "    .dataframe tbody tr th:only-of-type {\n",
       "        vertical-align: middle;\n",
       "    }\n",
       "\n",
       "    .dataframe tbody tr th {\n",
       "        vertical-align: top;\n",
       "    }\n",
       "\n",
       "    .dataframe thead th {\n",
       "        text-align: right;\n",
       "    }\n",
       "</style>\n",
       "<table border=\"1\" class=\"dataframe\">\n",
       "  <thead>\n",
       "    <tr style=\"text-align: right;\">\n",
       "      <th></th>\n",
       "      <th>Suburb</th>\n",
       "      <th>Address</th>\n",
       "      <th>Rooms</th>\n",
       "      <th>Type</th>\n",
       "      <th>Price</th>\n",
       "      <th>Method</th>\n",
       "      <th>SellerG</th>\n",
       "      <th>Date</th>\n",
       "      <th>Distance</th>\n",
       "      <th>Postcode</th>\n",
       "      <th>...</th>\n",
       "      <th>Bathroom</th>\n",
       "      <th>Car</th>\n",
       "      <th>Landsize</th>\n",
       "      <th>BuildingArea</th>\n",
       "      <th>YearBuilt</th>\n",
       "      <th>CouncilArea</th>\n",
       "      <th>Lattitude</th>\n",
       "      <th>Longtitude</th>\n",
       "      <th>Regionname</th>\n",
       "      <th>Propertycount</th>\n",
       "    </tr>\n",
       "  </thead>\n",
       "  <tbody>\n",
       "    <tr>\n",
       "      <th>0</th>\n",
       "      <td>Abbotsford</td>\n",
       "      <td>85 Turner St</td>\n",
       "      <td>2</td>\n",
       "      <td>h</td>\n",
       "      <td>1480000.0</td>\n",
       "      <td>S</td>\n",
       "      <td>Biggin</td>\n",
       "      <td>3/12/2016</td>\n",
       "      <td>2.5</td>\n",
       "      <td>3067.0</td>\n",
       "      <td>...</td>\n",
       "      <td>1.0</td>\n",
       "      <td>1.0</td>\n",
       "      <td>202.0</td>\n",
       "      <td>NaN</td>\n",
       "      <td>NaN</td>\n",
       "      <td>Yarra</td>\n",
       "      <td>-37.79960</td>\n",
       "      <td>144.99840</td>\n",
       "      <td>Northern Metropolitan</td>\n",
       "      <td>4019.0</td>\n",
       "    </tr>\n",
       "    <tr>\n",
       "      <th>1</th>\n",
       "      <td>Abbotsford</td>\n",
       "      <td>25 Bloomburg St</td>\n",
       "      <td>2</td>\n",
       "      <td>h</td>\n",
       "      <td>1035000.0</td>\n",
       "      <td>S</td>\n",
       "      <td>Biggin</td>\n",
       "      <td>4/02/2016</td>\n",
       "      <td>2.5</td>\n",
       "      <td>3067.0</td>\n",
       "      <td>...</td>\n",
       "      <td>1.0</td>\n",
       "      <td>0.0</td>\n",
       "      <td>156.0</td>\n",
       "      <td>79.0</td>\n",
       "      <td>1900.0</td>\n",
       "      <td>Yarra</td>\n",
       "      <td>-37.80790</td>\n",
       "      <td>144.99340</td>\n",
       "      <td>Northern Metropolitan</td>\n",
       "      <td>4019.0</td>\n",
       "    </tr>\n",
       "    <tr>\n",
       "      <th>2</th>\n",
       "      <td>Abbotsford</td>\n",
       "      <td>5 Charles St</td>\n",
       "      <td>3</td>\n",
       "      <td>h</td>\n",
       "      <td>1465000.0</td>\n",
       "      <td>SP</td>\n",
       "      <td>Biggin</td>\n",
       "      <td>4/03/2017</td>\n",
       "      <td>2.5</td>\n",
       "      <td>3067.0</td>\n",
       "      <td>...</td>\n",
       "      <td>2.0</td>\n",
       "      <td>0.0</td>\n",
       "      <td>134.0</td>\n",
       "      <td>150.0</td>\n",
       "      <td>1900.0</td>\n",
       "      <td>Yarra</td>\n",
       "      <td>-37.80930</td>\n",
       "      <td>144.99440</td>\n",
       "      <td>Northern Metropolitan</td>\n",
       "      <td>4019.0</td>\n",
       "    </tr>\n",
       "    <tr>\n",
       "      <th>3</th>\n",
       "      <td>Abbotsford</td>\n",
       "      <td>40 Federation La</td>\n",
       "      <td>3</td>\n",
       "      <td>h</td>\n",
       "      <td>850000.0</td>\n",
       "      <td>PI</td>\n",
       "      <td>Biggin</td>\n",
       "      <td>4/03/2017</td>\n",
       "      <td>2.5</td>\n",
       "      <td>3067.0</td>\n",
       "      <td>...</td>\n",
       "      <td>2.0</td>\n",
       "      <td>1.0</td>\n",
       "      <td>94.0</td>\n",
       "      <td>NaN</td>\n",
       "      <td>NaN</td>\n",
       "      <td>Yarra</td>\n",
       "      <td>-37.79690</td>\n",
       "      <td>144.99690</td>\n",
       "      <td>Northern Metropolitan</td>\n",
       "      <td>4019.0</td>\n",
       "    </tr>\n",
       "    <tr>\n",
       "      <th>4</th>\n",
       "      <td>Abbotsford</td>\n",
       "      <td>55a Park St</td>\n",
       "      <td>4</td>\n",
       "      <td>h</td>\n",
       "      <td>1600000.0</td>\n",
       "      <td>VB</td>\n",
       "      <td>Nelson</td>\n",
       "      <td>4/06/2016</td>\n",
       "      <td>2.5</td>\n",
       "      <td>3067.0</td>\n",
       "      <td>...</td>\n",
       "      <td>1.0</td>\n",
       "      <td>2.0</td>\n",
       "      <td>120.0</td>\n",
       "      <td>142.0</td>\n",
       "      <td>2014.0</td>\n",
       "      <td>Yarra</td>\n",
       "      <td>-37.80720</td>\n",
       "      <td>144.99410</td>\n",
       "      <td>Northern Metropolitan</td>\n",
       "      <td>4019.0</td>\n",
       "    </tr>\n",
       "    <tr>\n",
       "      <th>...</th>\n",
       "      <td>...</td>\n",
       "      <td>...</td>\n",
       "      <td>...</td>\n",
       "      <td>...</td>\n",
       "      <td>...</td>\n",
       "      <td>...</td>\n",
       "      <td>...</td>\n",
       "      <td>...</td>\n",
       "      <td>...</td>\n",
       "      <td>...</td>\n",
       "      <td>...</td>\n",
       "      <td>...</td>\n",
       "      <td>...</td>\n",
       "      <td>...</td>\n",
       "      <td>...</td>\n",
       "      <td>...</td>\n",
       "      <td>...</td>\n",
       "      <td>...</td>\n",
       "      <td>...</td>\n",
       "      <td>...</td>\n",
       "      <td>...</td>\n",
       "    </tr>\n",
       "    <tr>\n",
       "      <th>13575</th>\n",
       "      <td>Wheelers Hill</td>\n",
       "      <td>12 Strada Cr</td>\n",
       "      <td>4</td>\n",
       "      <td>h</td>\n",
       "      <td>1245000.0</td>\n",
       "      <td>S</td>\n",
       "      <td>Barry</td>\n",
       "      <td>26/08/2017</td>\n",
       "      <td>16.7</td>\n",
       "      <td>3150.0</td>\n",
       "      <td>...</td>\n",
       "      <td>2.0</td>\n",
       "      <td>2.0</td>\n",
       "      <td>652.0</td>\n",
       "      <td>NaN</td>\n",
       "      <td>1981.0</td>\n",
       "      <td>NaN</td>\n",
       "      <td>-37.90562</td>\n",
       "      <td>145.16761</td>\n",
       "      <td>South-Eastern Metropolitan</td>\n",
       "      <td>7392.0</td>\n",
       "    </tr>\n",
       "    <tr>\n",
       "      <th>13576</th>\n",
       "      <td>Williamstown</td>\n",
       "      <td>77 Merrett Dr</td>\n",
       "      <td>3</td>\n",
       "      <td>h</td>\n",
       "      <td>1031000.0</td>\n",
       "      <td>SP</td>\n",
       "      <td>Williams</td>\n",
       "      <td>26/08/2017</td>\n",
       "      <td>6.8</td>\n",
       "      <td>3016.0</td>\n",
       "      <td>...</td>\n",
       "      <td>2.0</td>\n",
       "      <td>2.0</td>\n",
       "      <td>333.0</td>\n",
       "      <td>133.0</td>\n",
       "      <td>1995.0</td>\n",
       "      <td>NaN</td>\n",
       "      <td>-37.85927</td>\n",
       "      <td>144.87904</td>\n",
       "      <td>Western Metropolitan</td>\n",
       "      <td>6380.0</td>\n",
       "    </tr>\n",
       "    <tr>\n",
       "      <th>13577</th>\n",
       "      <td>Williamstown</td>\n",
       "      <td>83 Power St</td>\n",
       "      <td>3</td>\n",
       "      <td>h</td>\n",
       "      <td>1170000.0</td>\n",
       "      <td>S</td>\n",
       "      <td>Raine</td>\n",
       "      <td>26/08/2017</td>\n",
       "      <td>6.8</td>\n",
       "      <td>3016.0</td>\n",
       "      <td>...</td>\n",
       "      <td>2.0</td>\n",
       "      <td>4.0</td>\n",
       "      <td>436.0</td>\n",
       "      <td>NaN</td>\n",
       "      <td>1997.0</td>\n",
       "      <td>NaN</td>\n",
       "      <td>-37.85274</td>\n",
       "      <td>144.88738</td>\n",
       "      <td>Western Metropolitan</td>\n",
       "      <td>6380.0</td>\n",
       "    </tr>\n",
       "    <tr>\n",
       "      <th>13578</th>\n",
       "      <td>Williamstown</td>\n",
       "      <td>96 Verdon St</td>\n",
       "      <td>4</td>\n",
       "      <td>h</td>\n",
       "      <td>2500000.0</td>\n",
       "      <td>PI</td>\n",
       "      <td>Sweeney</td>\n",
       "      <td>26/08/2017</td>\n",
       "      <td>6.8</td>\n",
       "      <td>3016.0</td>\n",
       "      <td>...</td>\n",
       "      <td>1.0</td>\n",
       "      <td>5.0</td>\n",
       "      <td>866.0</td>\n",
       "      <td>157.0</td>\n",
       "      <td>1920.0</td>\n",
       "      <td>NaN</td>\n",
       "      <td>-37.85908</td>\n",
       "      <td>144.89299</td>\n",
       "      <td>Western Metropolitan</td>\n",
       "      <td>6380.0</td>\n",
       "    </tr>\n",
       "    <tr>\n",
       "      <th>13579</th>\n",
       "      <td>Yarraville</td>\n",
       "      <td>6 Agnes St</td>\n",
       "      <td>4</td>\n",
       "      <td>h</td>\n",
       "      <td>1285000.0</td>\n",
       "      <td>SP</td>\n",
       "      <td>Village</td>\n",
       "      <td>26/08/2017</td>\n",
       "      <td>6.3</td>\n",
       "      <td>3013.0</td>\n",
       "      <td>...</td>\n",
       "      <td>1.0</td>\n",
       "      <td>1.0</td>\n",
       "      <td>362.0</td>\n",
       "      <td>112.0</td>\n",
       "      <td>1920.0</td>\n",
       "      <td>NaN</td>\n",
       "      <td>-37.81188</td>\n",
       "      <td>144.88449</td>\n",
       "      <td>Western Metropolitan</td>\n",
       "      <td>6543.0</td>\n",
       "    </tr>\n",
       "  </tbody>\n",
       "</table>\n",
       "<p>13580 rows × 21 columns</p>\n",
       "</div>"
      ],
      "text/plain": [
       "              Suburb           Address  Rooms Type      Price Method  \\\n",
       "0         Abbotsford      85 Turner St      2    h  1480000.0      S   \n",
       "1         Abbotsford   25 Bloomburg St      2    h  1035000.0      S   \n",
       "2         Abbotsford      5 Charles St      3    h  1465000.0     SP   \n",
       "3         Abbotsford  40 Federation La      3    h   850000.0     PI   \n",
       "4         Abbotsford       55a Park St      4    h  1600000.0     VB   \n",
       "...              ...               ...    ...  ...        ...    ...   \n",
       "13575  Wheelers Hill      12 Strada Cr      4    h  1245000.0      S   \n",
       "13576   Williamstown     77 Merrett Dr      3    h  1031000.0     SP   \n",
       "13577   Williamstown       83 Power St      3    h  1170000.0      S   \n",
       "13578   Williamstown      96 Verdon St      4    h  2500000.0     PI   \n",
       "13579     Yarraville        6 Agnes St      4    h  1285000.0     SP   \n",
       "\n",
       "        SellerG        Date  Distance  Postcode  ...  Bathroom  Car  Landsize  \\\n",
       "0        Biggin   3/12/2016       2.5    3067.0  ...       1.0  1.0     202.0   \n",
       "1        Biggin   4/02/2016       2.5    3067.0  ...       1.0  0.0     156.0   \n",
       "2        Biggin   4/03/2017       2.5    3067.0  ...       2.0  0.0     134.0   \n",
       "3        Biggin   4/03/2017       2.5    3067.0  ...       2.0  1.0      94.0   \n",
       "4        Nelson   4/06/2016       2.5    3067.0  ...       1.0  2.0     120.0   \n",
       "...         ...         ...       ...       ...  ...       ...  ...       ...   \n",
       "13575     Barry  26/08/2017      16.7    3150.0  ...       2.0  2.0     652.0   \n",
       "13576  Williams  26/08/2017       6.8    3016.0  ...       2.0  2.0     333.0   \n",
       "13577     Raine  26/08/2017       6.8    3016.0  ...       2.0  4.0     436.0   \n",
       "13578   Sweeney  26/08/2017       6.8    3016.0  ...       1.0  5.0     866.0   \n",
       "13579   Village  26/08/2017       6.3    3013.0  ...       1.0  1.0     362.0   \n",
       "\n",
       "       BuildingArea  YearBuilt  CouncilArea Lattitude  Longtitude  \\\n",
       "0               NaN        NaN        Yarra -37.79960   144.99840   \n",
       "1              79.0     1900.0        Yarra -37.80790   144.99340   \n",
       "2             150.0     1900.0        Yarra -37.80930   144.99440   \n",
       "3               NaN        NaN        Yarra -37.79690   144.99690   \n",
       "4             142.0     2014.0        Yarra -37.80720   144.99410   \n",
       "...             ...        ...          ...       ...         ...   \n",
       "13575           NaN     1981.0          NaN -37.90562   145.16761   \n",
       "13576         133.0     1995.0          NaN -37.85927   144.87904   \n",
       "13577           NaN     1997.0          NaN -37.85274   144.88738   \n",
       "13578         157.0     1920.0          NaN -37.85908   144.89299   \n",
       "13579         112.0     1920.0          NaN -37.81188   144.88449   \n",
       "\n",
       "                       Regionname Propertycount  \n",
       "0           Northern Metropolitan        4019.0  \n",
       "1           Northern Metropolitan        4019.0  \n",
       "2           Northern Metropolitan        4019.0  \n",
       "3           Northern Metropolitan        4019.0  \n",
       "4           Northern Metropolitan        4019.0  \n",
       "...                           ...           ...  \n",
       "13575  South-Eastern Metropolitan        7392.0  \n",
       "13576        Western Metropolitan        6380.0  \n",
       "13577        Western Metropolitan        6380.0  \n",
       "13578        Western Metropolitan        6380.0  \n",
       "13579        Western Metropolitan        6543.0  \n",
       "\n",
       "[13580 rows x 21 columns]"
      ]
     },
     "execution_count": 16,
     "metadata": {},
     "output_type": "execute_result"
    }
   ],
   "source": [
    "melbourne_data = pd.read_csv('melb_data.csv')\n",
    "\n",
    "melbourne_data"
   ]
  },
  {
   "cell_type": "markdown",
   "metadata": {},
   "source": [
    "## Q1 - How many unique suburbs are there? (2 points)"
   ]
  },
  {
   "cell_type": "code",
   "execution_count": 3,
   "metadata": {},
   "outputs": [
    {
     "name": "stdout",
     "output_type": "stream",
     "text": [
      "There are 314 unique suburbs in Melbourne.\n"
     ]
    }
   ],
   "source": [
    "suburbs = melbourne_data['Suburb']\n",
    "uniqueSuburbs = suburbs.unique()\n",
    "print(\"There are {} unique suburbs in Melbourne.\".format(len(uniqueSuburbs)))"
   ]
  },
  {
   "cell_type": "markdown",
   "metadata": {},
   "source": [
    "## Q2 - How many unique properties are there? (2 points)\n",
    "\n",
    "Unique properties can be identified solely by the address, or GPS coordinates can also be considered."
   ]
  },
  {
   "cell_type": "code",
   "execution_count": 4,
   "metadata": {},
   "outputs": [
    {
     "name": "stdout",
     "output_type": "stream",
     "text": [
      "There are 13378 unique properties in Melbourne.\n"
     ]
    }
   ],
   "source": [
    "address = melbourne_data['Address'].unique()\n",
    "print(\"There are {} unique properties in Melbourne.\".format(len(address)))"
   ]
  },
  {
   "cell_type": "markdown",
   "metadata": {},
   "source": [
    "## Q3- What is the mean price of a property in the Kensington suburb? (2 points)"
   ]
  },
  {
   "cell_type": "code",
   "execution_count": 5,
   "metadata": {},
   "outputs": [
    {
     "name": "stdout",
     "output_type": "stream",
     "text": [
      "The mean price of a property in the Kensington suburb is 831667.0 AUD\n"
     ]
    }
   ],
   "source": [
    "kensingtonSuburb = melbourne_data.loc[melbourne_data['Suburb'] == 'Kensington']\n",
    "kensingtonPrices = list(kensingtonSuburb['Price'])\n",
    "mean = np.mean(kensingtonPrices).round()\n",
    "print(\"The mean price of a property in the Kensington suburb is {} AUD\".format(mean))\n"
   ]
  },
  {
   "cell_type": "markdown",
   "metadata": {},
   "source": [
    "# Q3.1 (extra) - What is the median price of a property in the Kensington suburb? (1 extra point)"
   ]
  },
  {
   "cell_type": "code",
   "execution_count": 17,
   "metadata": {},
   "outputs": [
    {
     "name": "stdout",
     "output_type": "stream",
     "text": [
      "The median price of a property in the Kensington suburb is 812000.0 AUD\n"
     ]
    }
   ],
   "source": [
    "median = np.median(kensingtonPrices).round()\n",
    "print(\"The median price of a property in the Kensington suburb is {} AUD\".format(median))"
   ]
  },
  {
   "cell_type": "markdown",
   "metadata": {},
   "source": [
    "## Q4 - What percentage of properties contain a YearBuilt value? (2 points)\n",
    "\n",
    "As we see in the table, we do not have for each house the \"YearBuild\" value and some of them are NaN and not filled. \n",
    "We want to find out the percentage of homes that we know their build year. "
   ]
  },
  {
   "cell_type": "code",
   "execution_count": 7,
   "metadata": {},
   "outputs": [
    {
     "name": "stdout",
     "output_type": "stream",
     "text": [
      "The percentage of properties containing a YearBuilt value is 60.36%\n"
     ]
    }
   ],
   "source": [
    "noDups = melbourne_data.drop_duplicates(subset = ['Address']) \n",
    "containsYearBuilt = len(list(noDups['YearBuilt'].dropna()))\n",
    "totalProp = len(noDups)\n",
    "percentage = containsYearBuilt / totalProp\n",
    "print(\"The percentage of properties containing a YearBuilt value is {}%\".format(round(percentage * 100, 2)))"
   ]
  },
  {
   "cell_type": "markdown",
   "metadata": {},
   "source": [
    "## Q5 - Create a histogram plot that shows the data distribution of the Landsizes using 20 bins. (2 points)\n",
    "\n",
    "Describe the shape of this histogram plot and your interpretations in one paragraph. "
   ]
  },
  {
   "cell_type": "code",
   "execution_count": 8,
   "metadata": {},
   "outputs": [
    {
     "name": "stdout",
     "output_type": "stream",
     "text": [
      "558.4161266568483\n",
      "3990.522306546817\n"
     ]
    },
    {
     "data": {
      "image/png": "[encoded data removed]",
      "text/plain": [
       "<Figure size 432x288 with 1 Axes>"
      ]
     },
     "metadata": {
      "needs_background": "light"
     },
     "output_type": "display_data"
    }
   ],
   "source": [
    "# code goes here\n",
    "\n",
    "landsizes=melbourne_data['Landsize']\n",
    "arr2 = np.array(landsizes)\n",
    "\n",
    "mu = arr2.mean()\n",
    "print(mu) #finding mean\n",
    "\n",
    "sigma = arr2.std()\n",
    "print(sigma) #finding standard deviation\n",
    "\n",
    "#x = mu + sigma * np.random.normal(10000)\n",
    "#n, bins, patches = plt.hist(x, 20, density=True, facecolor='g', alpha=0.75)\n",
    "\n",
    "landsize_data = np.round(np.random.normal(mu, sigma, 10000))\n",
    "plt.hist(landsize_data, 20, density=False, facecolor='g', alpha=0.75)\n",
    "\n",
    "plt.xlabel('Landsize')\n",
    "plt.title('Histogram of Landsizes')\n",
    "plt.grid(True)\n",
    "plt.xlim(0,17500)\n",
    "plt.ylim(0,1750)\n",
    "plt.show()\n",
    "\n",
    "\n",
    "# The histogram resembles a descending staircase from the left to the right of the graph. \n",
    "# This is because the number of properties steadily decreases as the landsize values increase. \n",
    "# There are a much larger number of properties #with lower to average landsize values than there are \n",
    "# of those with high landsize values. There are also a number of outliers that are incredibly higher\n",
    "# than other property's landsizes which caused the far right end of the histogram\n",
    "# to be much lower than that of the left.\n"
   ]
  },
  {
   "cell_type": "markdown",
   "metadata": {},
   "source": [
    "## Q6 -  Plot a scatter plot of price as a function of BuildingArea using only rows that have a valid BuildingArea value. (2 points)\n",
    "\n",
    "Create a scatter plot that has BuildingArea as x-axis and Price as y-axis.\n",
    "\n",
    "Please make sure your scatter plot is legible, do not let outliers dominate your graph. If you limit/trim/don't show all the data, always inform the reader of the graph of what you have done and what they are viewing."
   ]
  },
  {
   "cell_type": "code",
   "execution_count": 9,
   "metadata": {},
   "outputs": [
    {
     "data": {
      "image/png": "[encoded data removed]",
      "text/plain": [
       "<Figure size 432x288 with 1 Axes>"
      ]
     },
     "metadata": {
      "needs_background": "light"
     },
     "output_type": "display_data"
    }
   ],
   "source": [
    "# code goes here\n",
    "validBuildingArea = melbourne_data.dropna()\n",
    "area = validBuildingArea['BuildingArea']\n",
    "price = validBuildingArea['Price']\n",
    "plt.scatter(area, price, c = 'red', alpha = 0.9, marker = '*')\n",
    "plt.xlabel('Building Area')\n",
    "plt.ylabel('Price')\n",
    "plt.show()"
   ]
  },
  {
   "cell_type": "markdown",
   "metadata": {},
   "source": [
    "## Q7 - Who are the top-10 seller/listing agents? And what percentage of properties they have listed? (2 points)  \n",
    "\n",
    "Seller/Listing agents are identified by the \"SellerG\" column. The top-10 sellers are the ten sellers with the highest number of properties.\n",
    "\n",
    "I'm going to assume that the SellerG column is the name of the seller group, so \"realtor\" in US parlance.  \n",
    "So, that column is interpreted as the seller that listed the property. Desregard the Propertycount column."
   ]
  },
  {
   "cell_type": "code",
   "execution_count": 10,
   "metadata": {},
   "outputs": [
    {
     "name": "stdout",
     "output_type": "stream",
     "text": [
      "The top 10 seller agents and the percentage of properties they have listed are:\n",
      "Nelson 11.7%\n",
      "Jellis 9.84%\n",
      "Hockingstuart 8.72%\n",
      "Barry 7.56%\n",
      "Ray 5.24%\n",
      "Marshall 4.93%\n",
      "Buxton 4.72%\n",
      "Biggin 2.94%\n",
      "Brad 2.56%\n",
      "Fletchers 2.25%\n"
     ]
    }
   ],
   "source": [
    "# code goes here\n",
    "agents = melbourne_data['SellerG'].value_counts()\n",
    "agentNames = list(agents[:10].keys())\n",
    "agentCounts = list(agents)[:10]\n",
    "agentPercent = []\n",
    "\n",
    "for x in agentCounts:\n",
    "    x = (x / totalProp) * 100\n",
    "    agentPercent.append(round(x, 2))\n",
    "\n",
    "dictAgents = dict(zip(agentNames, agentPercent))\n",
    "\n",
    "print(\"The top 10 seller agents and the percentage of properties they have listed are:\")\n",
    "for x in range(len(dictAgents)):\n",
    "    print(list(dictAgents.keys())[x].title(), str(list(dictAgents.values())[x]) + \"%\")"
   ]
  },
  {
   "cell_type": "markdown",
   "metadata": {},
   "source": [
    "## Q8 - Fix a problem. (2 points)\n",
    "Your boss has told you that the number of rooms (Rooms column) was calculated incorrectly systematically across the entire dataset. To fix this problem, we want to add a room to the Rooms column. (Add 1 room to each row in Rooms column.)\n",
    "\n",
    "Solve this problem without using a python for loop, and using a single pandas statement. \n",
    "\n",
    "Show your output dataset!"
   ]
  },
  {
   "cell_type": "code",
   "execution_count": 11,
   "metadata": {},
   "outputs": [
    {
     "name": "stdout",
     "output_type": "stream",
     "text": [
      "              Suburb           Address  Rooms Type      Price Method  \\\n",
      "0         Abbotsford      85 Turner St      3    h  1480000.0      S   \n",
      "1         Abbotsford   25 Bloomburg St      3    h  1035000.0      S   \n",
      "2         Abbotsford      5 Charles St      4    h  1465000.0     SP   \n",
      "3         Abbotsford  40 Federation La      4    h   850000.0     PI   \n",
      "4         Abbotsford       55a Park St      5    h  1600000.0     VB   \n",
      "...              ...               ...    ...  ...        ...    ...   \n",
      "13575  Wheelers Hill      12 Strada Cr      5    h  1245000.0      S   \n",
      "13576   Williamstown     77 Merrett Dr      4    h  1031000.0     SP   \n",
      "13577   Williamstown       83 Power St      4    h  1170000.0      S   \n",
      "13578   Williamstown      96 Verdon St      5    h  2500000.0     PI   \n",
      "13579     Yarraville        6 Agnes St      5    h  1285000.0     SP   \n",
      "\n",
      "        SellerG        Date  Distance  Postcode  ...  Bathroom  Car  Landsize  \\\n",
      "0        Biggin   3/12/2016       2.5    3067.0  ...       1.0  1.0     202.0   \n",
      "1        Biggin   4/02/2016       2.5    3067.0  ...       1.0  0.0     156.0   \n",
      "2        Biggin   4/03/2017       2.5    3067.0  ...       2.0  0.0     134.0   \n",
      "3        Biggin   4/03/2017       2.5    3067.0  ...       2.0  1.0      94.0   \n",
      "4        Nelson   4/06/2016       2.5    3067.0  ...       1.0  2.0     120.0   \n",
      "...         ...         ...       ...       ...  ...       ...  ...       ...   \n",
      "13575     Barry  26/08/2017      16.7    3150.0  ...       2.0  2.0     652.0   \n",
      "13576  Williams  26/08/2017       6.8    3016.0  ...       2.0  2.0     333.0   \n",
      "13577     Raine  26/08/2017       6.8    3016.0  ...       2.0  4.0     436.0   \n",
      "13578   Sweeney  26/08/2017       6.8    3016.0  ...       1.0  5.0     866.0   \n",
      "13579   Village  26/08/2017       6.3    3013.0  ...       1.0  1.0     362.0   \n",
      "\n",
      "       BuildingArea  YearBuilt  CouncilArea Lattitude  Longtitude  \\\n",
      "0               NaN        NaN        Yarra -37.79960   144.99840   \n",
      "1              79.0     1900.0        Yarra -37.80790   144.99340   \n",
      "2             150.0     1900.0        Yarra -37.80930   144.99440   \n",
      "3               NaN        NaN        Yarra -37.79690   144.99690   \n",
      "4             142.0     2014.0        Yarra -37.80720   144.99410   \n",
      "...             ...        ...          ...       ...         ...   \n",
      "13575           NaN     1981.0          NaN -37.90562   145.16761   \n",
      "13576         133.0     1995.0          NaN -37.85927   144.87904   \n",
      "13577           NaN     1997.0          NaN -37.85274   144.88738   \n",
      "13578         157.0     1920.0          NaN -37.85908   144.89299   \n",
      "13579         112.0     1920.0          NaN -37.81188   144.88449   \n",
      "\n",
      "                       Regionname Propertycount  \n",
      "0           Northern Metropolitan        4019.0  \n",
      "1           Northern Metropolitan        4019.0  \n",
      "2           Northern Metropolitan        4019.0  \n",
      "3           Northern Metropolitan        4019.0  \n",
      "4           Northern Metropolitan        4019.0  \n",
      "...                           ...           ...  \n",
      "13575  South-Eastern Metropolitan        7392.0  \n",
      "13576        Western Metropolitan        6380.0  \n",
      "13577        Western Metropolitan        6380.0  \n",
      "13578        Western Metropolitan        6380.0  \n",
      "13579        Western Metropolitan        6543.0  \n",
      "\n",
      "[13580 rows x 21 columns]\n"
     ]
    }
   ],
   "source": [
    "melbourne_data['Rooms'] = melbourne_data['Rooms'].apply(lambda x : x + 1)\n",
    "print(melbourne_data)"
   ]
  },
  {
   "cell_type": "markdown",
   "metadata": {},
   "source": [
    "## Q9 - What is the Address of the earliest built house in this dataset? (2 points)\n"
   ]
  },
  {
   "cell_type": "code",
   "execution_count": 1,
   "metadata": {},
   "outputs": [
    {
     "ename": "NameError",
     "evalue": "name 'melbourne_data' is not defined",
     "output_type": "error",
     "traceback": [
      "\u001b[1;31m---------------------------------------------------------------------------\u001b[0m",
      "\u001b[1;31mNameError\u001b[0m                                 Traceback (most recent call last)",
      "\u001b[1;32m<ipython-input-1-ea76b6e79510>\u001b[0m in \u001b[0;36m<module>\u001b[1;34m\u001b[0m\n\u001b[1;32m----> 1\u001b[1;33m \u001b[0msortedData\u001b[0m \u001b[1;33m=\u001b[0m \u001b[0mmelbourne_data\u001b[0m\u001b[1;33m.\u001b[0m\u001b[0msort_values\u001b[0m\u001b[1;33m(\u001b[0m\u001b[0mby\u001b[0m \u001b[1;33m=\u001b[0m \u001b[1;34m'YearBuilt'\u001b[0m\u001b[1;33m)\u001b[0m\u001b[1;33m\u001b[0m\u001b[1;33m\u001b[0m\u001b[0m\n\u001b[0m\u001b[0;32m      2\u001b[0m \u001b[0mearliest\u001b[0m \u001b[1;33m=\u001b[0m \u001b[0mlist\u001b[0m\u001b[1;33m(\u001b[0m\u001b[0msortedData\u001b[0m\u001b[1;33m[\u001b[0m\u001b[1;34m'Address'\u001b[0m\u001b[1;33m]\u001b[0m\u001b[1;33m)\u001b[0m\u001b[1;33m[\u001b[0m\u001b[1;36m0\u001b[0m\u001b[1;33m]\u001b[0m\u001b[1;33m\u001b[0m\u001b[1;33m\u001b[0m\u001b[0m\n\u001b[0;32m      3\u001b[0m \u001b[0mprint\u001b[0m\u001b[1;33m(\u001b[0m\u001b[1;34m\"The address of the earliest built house is {}.\"\u001b[0m\u001b[1;33m.\u001b[0m\u001b[0mformat\u001b[0m\u001b[1;33m(\u001b[0m\u001b[0mearliest\u001b[0m\u001b[1;33m)\u001b[0m\u001b[1;33m)\u001b[0m\u001b[1;33m\u001b[0m\u001b[1;33m\u001b[0m\u001b[0m\n",
      "\u001b[1;31mNameError\u001b[0m: name 'melbourne_data' is not defined"
     ]
    }
   ],
   "source": [
    "sortedData = melbourne_data.sort_values(by = 'YearBuilt')\n",
    "earliest = list(sortedData['Address'])[0]\n",
    "print(\"The address of the earliest built house is {}.\".format(earliest))"
   ]
  },
  {
   "cell_type": "markdown",
   "metadata": {},
   "source": [
    "## Q10 - Save a file  (2 points)\n",
    "The council member for Melbourne has asked for the information for their district.  Assume that there are legal restrcitions and we can only provide the council member the Suburb, Price, and Date from the CouncilArea \"Melbourne\" to the counsil person.  \n",
    "\n",
    "Export the file with only the allowed columns, and do not write and index column. Pandas automatically adds an index column on the left-most side of the dataframe for easy viewing; do not write this column to the file."
   ]
  },
  {
   "cell_type": "code",
   "execution_count": 13,
   "metadata": {},
   "outputs": [],
   "source": [
    "suburb = melbourne_data['Suburb']\n",
    "price = melbourne_data['Price']\n",
    "date = melbourne_data['Date']\n",
    "councilArea = melbourne_data['CouncilArea']\n",
    "newDict = {'Suburb': list(suburb), 'Price': list(price), 'Date': list(date), 'CouncilArea': list(councilArea)}\n",
    "newDf = pd.DataFrame(newDict)\n",
    "newDf.to_csv('new_melbourne_data.csv', index = False)"
   ]
  },
  {
   "cell_type": "code",
   "execution_count": 14,
   "metadata": {},
   "outputs": [
    {
     "data": {
      "text/html": [
       "<div>\n",
       "<style scoped>\n",
       "    .dataframe tbody tr th:only-of-type {\n",
       "        vertical-align: middle;\n",
       "    }\n",
       "\n",
       "    .dataframe tbody tr th {\n",
       "        vertical-align: top;\n",
       "    }\n",
       "\n",
       "    .dataframe thead th {\n",
       "        text-align: right;\n",
       "    }\n",
       "</style>\n",
       "<table border=\"1\" class=\"dataframe\">\n",
       "  <thead>\n",
       "    <tr style=\"text-align: right;\">\n",
       "      <th></th>\n",
       "      <th>Suburb</th>\n",
       "      <th>Price</th>\n",
       "      <th>Date</th>\n",
       "      <th>CouncilArea</th>\n",
       "    </tr>\n",
       "  </thead>\n",
       "  <tbody>\n",
       "    <tr>\n",
       "      <th>0</th>\n",
       "      <td>Abbotsford</td>\n",
       "      <td>1480000.0</td>\n",
       "      <td>3/12/2016</td>\n",
       "      <td>Yarra</td>\n",
       "    </tr>\n",
       "    <tr>\n",
       "      <th>1</th>\n",
       "      <td>Abbotsford</td>\n",
       "      <td>1035000.0</td>\n",
       "      <td>4/02/2016</td>\n",
       "      <td>Yarra</td>\n",
       "    </tr>\n",
       "    <tr>\n",
       "      <th>2</th>\n",
       "      <td>Abbotsford</td>\n",
       "      <td>1465000.0</td>\n",
       "      <td>4/03/2017</td>\n",
       "      <td>Yarra</td>\n",
       "    </tr>\n",
       "    <tr>\n",
       "      <th>3</th>\n",
       "      <td>Abbotsford</td>\n",
       "      <td>850000.0</td>\n",
       "      <td>4/03/2017</td>\n",
       "      <td>Yarra</td>\n",
       "    </tr>\n",
       "    <tr>\n",
       "      <th>4</th>\n",
       "      <td>Abbotsford</td>\n",
       "      <td>1600000.0</td>\n",
       "      <td>4/06/2016</td>\n",
       "      <td>Yarra</td>\n",
       "    </tr>\n",
       "    <tr>\n",
       "      <th>...</th>\n",
       "      <td>...</td>\n",
       "      <td>...</td>\n",
       "      <td>...</td>\n",
       "      <td>...</td>\n",
       "    </tr>\n",
       "    <tr>\n",
       "      <th>13575</th>\n",
       "      <td>Wheelers Hill</td>\n",
       "      <td>1245000.0</td>\n",
       "      <td>26/08/2017</td>\n",
       "      <td>NaN</td>\n",
       "    </tr>\n",
       "    <tr>\n",
       "      <th>13576</th>\n",
       "      <td>Williamstown</td>\n",
       "      <td>1031000.0</td>\n",
       "      <td>26/08/2017</td>\n",
       "      <td>NaN</td>\n",
       "    </tr>\n",
       "    <tr>\n",
       "      <th>13577</th>\n",
       "      <td>Williamstown</td>\n",
       "      <td>1170000.0</td>\n",
       "      <td>26/08/2017</td>\n",
       "      <td>NaN</td>\n",
       "    </tr>\n",
       "    <tr>\n",
       "      <th>13578</th>\n",
       "      <td>Williamstown</td>\n",
       "      <td>2500000.0</td>\n",
       "      <td>26/08/2017</td>\n",
       "      <td>NaN</td>\n",
       "    </tr>\n",
       "    <tr>\n",
       "      <th>13579</th>\n",
       "      <td>Yarraville</td>\n",
       "      <td>1285000.0</td>\n",
       "      <td>26/08/2017</td>\n",
       "      <td>NaN</td>\n",
       "    </tr>\n",
       "  </tbody>\n",
       "</table>\n",
       "<p>13580 rows × 4 columns</p>\n",
       "</div>"
      ],
      "text/plain": [
       "              Suburb      Price        Date CouncilArea\n",
       "0         Abbotsford  1480000.0   3/12/2016       Yarra\n",
       "1         Abbotsford  1035000.0   4/02/2016       Yarra\n",
       "2         Abbotsford  1465000.0   4/03/2017       Yarra\n",
       "3         Abbotsford   850000.0   4/03/2017       Yarra\n",
       "4         Abbotsford  1600000.0   4/06/2016       Yarra\n",
       "...              ...        ...         ...         ...\n",
       "13575  Wheelers Hill  1245000.0  26/08/2017         NaN\n",
       "13576   Williamstown  1031000.0  26/08/2017         NaN\n",
       "13577   Williamstown  1170000.0  26/08/2017         NaN\n",
       "13578   Williamstown  2500000.0  26/08/2017         NaN\n",
       "13579     Yarraville  1285000.0  26/08/2017         NaN\n",
       "\n",
       "[13580 rows x 4 columns]"
      ]
     },
     "execution_count": 14,
     "metadata": {},
     "output_type": "execute_result"
    }
   ],
   "source": [
    "pd.read_csv('new_melbourne_data.csv')"
   ]
  }
 ],
 "metadata": {
  "kernelspec": {
   "display_name": "Python 3",
   "language": "python",
   "name": "python3"
  },
  "language_info": {
   "codemirror_mode": {
    "name": "ipython",
    "version": 3
   },
   "file_extension": ".py",
   "mimetype": "text/x-python",
   "name": "python",
   "nbconvert_exporter": "python",
   "pygments_lexer": "ipython3",
   "version": "3.8.1"
  }
 },
 "nbformat": 4,
 "nbformat_minor": 4
}
