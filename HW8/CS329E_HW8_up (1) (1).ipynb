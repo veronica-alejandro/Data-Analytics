{
 "cells": [
  {
   "cell_type": "markdown",
   "metadata": {},
   "source": [
    "## C S 329E HW 6\n",
    "\n",
    "# KNN \n",
    "\n",
    "## Your name here (and your partner's name if you are working in a pair)\n",
    "\n",
    "Tori Garfield teg755\n",
    "Veronica Alejandro vaa678\n",
    "\n",
    "For this week's homework we are going explore one new classification technique:\n",
    "\n",
    "  - k nearest neighbors\n",
    "\n",
    "We are using a different version of the Melbourne housing data set, to predict the housing type as one of three possible categories:\n",
    "\n",
    "  - 'h' house\n",
    "  - 'u' duplex\n",
    "  - 't' townhouse\n",
    "\n",
    "At the end of this homework, I expect you to understand how to build and use a kNN model, and practice your data cleaning and data preparation skills. "
   ]
  },
  {
   "cell_type": "code",
   "execution_count": 1,
   "metadata": {},
   "outputs": [],
   "source": [
    "# These are the libraries you will use for this assignment\n",
    "import pandas as pd\n",
    "import numpy as np\n",
    "import matplotlib.pyplot as plt\n",
    "import time\n",
    "import calendar\n",
    "%matplotlib inline\n",
    "\n",
    "# Starting off loading a training set\n",
    "df_melb = pd.read_csv('melb_data_train.csv')"
   ]
  },
  {
   "cell_type": "markdown",
   "metadata": {},
   "source": [
    "## Q1 - Fix a column of data to be numeric\n",
    "If we inspect our dataframe, `df_melb` using the `dtypes` method, we see that the column \"Date\" is an object.  However, we think this column might contain useful information so we want to convert it to [seconds since epoch](https://en.wikipedia.org/wiki/Unix_time). Use only the exiting imported libraries to create a new column \"unixtime\". Be careful, the date strings in the file might have some non-uniform formatting that you have to fix first.  Print out the min and max epoch time to check your work.  Drop the original \"Date\" column. Please use the python [reference for time](https://docs.python.org/3/library/time.html) to help you do the string to Unix time conversion. "
   ]
  },
  {
   "cell_type": "code",
   "execution_count": 2,
   "metadata": {},
   "outputs": [],
   "source": [
    "# normalize date accepts the date string as shown in the df_melb 'Date' column,\n",
    "# and returns a data in a standarized format\n",
    "def standardize_date(d):\n",
    "    # Your code here\n",
    "    d = d.split('/')\n",
    "    dNew = ''\n",
    "    \n",
    "    #day \n",
    "    if len(d[0]) != 2:\n",
    "        dNew += '0'\n",
    "    dNew += d[0] + '/'\n",
    "    \n",
    "    #month\n",
    "    if len(d[1]) != 2:\n",
    "        dNew += '0'\n",
    "    dNew += d[1] + '/'\n",
    "    \n",
    "    #year\n",
    "    if len(d[2]) != 4:\n",
    "        dNew += '20'\n",
    "    dNew += d[2]\n",
    "    \n",
    "    return dNew"
   ]
  },
  {
   "cell_type": "code",
   "execution_count": 3,
   "metadata": {},
   "outputs": [
    {
     "name": "stdout",
     "output_type": "stream",
     "text": [
      "The min unixtime is 1454544000 and the max unixtime is 1506124800\n"
     ]
    }
   ],
   "source": [
    "df_melb['Date'] = df_melb['Date'].apply( lambda x : standardize_date(x)) \n",
    "df_melb['unixtime'] = pd.to_datetime(df_melb['Date'], format='%d/%m/%Y')\n",
    "df_melb['unixtime'] = df_melb['unixtime'].apply(lambda x : int(x.timestamp()))\n",
    "df_melb = df_melb.drop(columns=\"Date\")\n",
    "\n",
    "print(\"The min unixtime is {:d} and the max unixtime is {:d}\".format(df_melb['unixtime'].min(),df_melb['unixtime'].max()))"
   ]
  },
  {
   "cell_type": "markdown",
   "metadata": {},
   "source": [
    "## Q2 Use Imputation to fill in missing values\n",
    "kNN doesn't work when the attributes are not valid for all of the attribute columns, so fill in all the missing values in `df_melb` with the mean of that column.  Save the mean of each column in a dictionary, `dict_imputation`, whose key is the attribute column name, so we can apply the same imputation to the test set later. Show your `dict_imputation` dictionary and the head of your `df_melb` dataframe.  The target classfication is stored in the column `'Type'`, so we are going to define a variable target_col so we can reference the target_col using a variable. (hint: during imputation you skip the target column)"
   ]
  },
  {
   "cell_type": "code",
   "execution_count": 4,
   "metadata": {},
   "outputs": [],
   "source": [
    "target_col = 'Type'"
   ]
  },
  {
   "cell_type": "code",
   "execution_count": 5,
   "metadata": {},
   "outputs": [],
   "source": [
    "dict_imputation = dict()\n",
    "for col in df_melb.columns:\n",
    "    # your code here\n",
    "    if col != target_col: #skip target column\n",
    "        mean = df_melb[col].mean() #calculate mean of the column\n",
    "        dict_imputation[col] = mean #save mean of column to dict\n",
    "        df_melb[col] = df_melb[col].fillna(value = mean) #fill in the missing values with mean"
   ]
  },
  {
   "cell_type": "code",
   "execution_count": 6,
   "metadata": {},
   "outputs": [
    {
     "data": {
      "text/plain": [
       "{'Rooms': 2.710769230769231,\n",
       " 'Price': 941972.2953846154,\n",
       " 'Distance': 10.206256410256408,\n",
       " 'Postcode': 3110.873846153846,\n",
       " 'Bathroom': 1.4543589743589744,\n",
       " 'Car': 1.4938398357289528,\n",
       " 'Landsize': 514.2184615384615,\n",
       " 'BuildingArea': 131.379476861167,\n",
       " 'YearBuilt': 1971.0204429301534,\n",
       " 'unixtime': 1485036288.0}"
      ]
     },
     "execution_count": 6,
     "metadata": {},
     "output_type": "execute_result"
    }
   ],
   "source": [
    "dict_imputation"
   ]
  },
  {
   "cell_type": "code",
   "execution_count": 7,
   "metadata": {},
   "outputs": [
    {
     "data": {
      "text/html": [
       "<div>\n",
       "<style scoped>\n",
       "    .dataframe tbody tr th:only-of-type {\n",
       "        vertical-align: middle;\n",
       "    }\n",
       "\n",
       "    .dataframe tbody tr th {\n",
       "        vertical-align: top;\n",
       "    }\n",
       "\n",
       "    .dataframe thead th {\n",
       "        text-align: right;\n",
       "    }\n",
       "</style>\n",
       "<table border=\"1\" class=\"dataframe\">\n",
       "  <thead>\n",
       "    <tr style=\"text-align: right;\">\n",
       "      <th></th>\n",
       "      <th>Rooms</th>\n",
       "      <th>Type</th>\n",
       "      <th>Price</th>\n",
       "      <th>Distance</th>\n",
       "      <th>Postcode</th>\n",
       "      <th>Bathroom</th>\n",
       "      <th>Car</th>\n",
       "      <th>Landsize</th>\n",
       "      <th>BuildingArea</th>\n",
       "      <th>YearBuilt</th>\n",
       "      <th>unixtime</th>\n",
       "    </tr>\n",
       "  </thead>\n",
       "  <tbody>\n",
       "    <tr>\n",
       "      <th>0</th>\n",
       "      <td>3</td>\n",
       "      <td>t</td>\n",
       "      <td>732000</td>\n",
       "      <td>5.6</td>\n",
       "      <td>3101</td>\n",
       "      <td>1</td>\n",
       "      <td>1.0</td>\n",
       "      <td>904</td>\n",
       "      <td>110.000000</td>\n",
       "      <td>1980.000000</td>\n",
       "      <td>1469491200</td>\n",
       "    </tr>\n",
       "    <tr>\n",
       "      <th>1</th>\n",
       "      <td>3</td>\n",
       "      <td>h</td>\n",
       "      <td>1001000</td>\n",
       "      <td>12.6</td>\n",
       "      <td>3020</td>\n",
       "      <td>1</td>\n",
       "      <td>5.0</td>\n",
       "      <td>879</td>\n",
       "      <td>131.379477</td>\n",
       "      <td>1971.020443</td>\n",
       "      <td>1488585600</td>\n",
       "    </tr>\n",
       "    <tr>\n",
       "      <th>2</th>\n",
       "      <td>2</td>\n",
       "      <td>u</td>\n",
       "      <td>605000</td>\n",
       "      <td>7.4</td>\n",
       "      <td>3185</td>\n",
       "      <td>1</td>\n",
       "      <td>1.0</td>\n",
       "      <td>722</td>\n",
       "      <td>131.379477</td>\n",
       "      <td>1970.000000</td>\n",
       "      <td>1462579200</td>\n",
       "    </tr>\n",
       "    <tr>\n",
       "      <th>3</th>\n",
       "      <td>3</td>\n",
       "      <td>h</td>\n",
       "      <td>757500</td>\n",
       "      <td>18.8</td>\n",
       "      <td>3170</td>\n",
       "      <td>2</td>\n",
       "      <td>1.0</td>\n",
       "      <td>145</td>\n",
       "      <td>131.379477</td>\n",
       "      <td>1971.020443</td>\n",
       "      <td>1497657600</td>\n",
       "    </tr>\n",
       "    <tr>\n",
       "      <th>4</th>\n",
       "      <td>4</td>\n",
       "      <td>h</td>\n",
       "      <td>721000</td>\n",
       "      <td>17.9</td>\n",
       "      <td>3082</td>\n",
       "      <td>2</td>\n",
       "      <td>2.0</td>\n",
       "      <td>603</td>\n",
       "      <td>131.379477</td>\n",
       "      <td>1971.020443</td>\n",
       "      <td>1505520000</td>\n",
       "    </tr>\n",
       "  </tbody>\n",
       "</table>\n",
       "</div>"
      ],
      "text/plain": [
       "   Rooms Type    Price  Distance  Postcode  Bathroom  Car  Landsize  \\\n",
       "0      3    t   732000       5.6      3101         1  1.0       904   \n",
       "1      3    h  1001000      12.6      3020         1  5.0       879   \n",
       "2      2    u   605000       7.4      3185         1  1.0       722   \n",
       "3      3    h   757500      18.8      3170         2  1.0       145   \n",
       "4      4    h   721000      17.9      3082         2  2.0       603   \n",
       "\n",
       "   BuildingArea    YearBuilt    unixtime  \n",
       "0    110.000000  1980.000000  1469491200  \n",
       "1    131.379477  1971.020443  1488585600  \n",
       "2    131.379477  1970.000000  1462579200  \n",
       "3    131.379477  1971.020443  1497657600  \n",
       "4    131.379477  1971.020443  1505520000  "
      ]
     },
     "execution_count": 7,
     "metadata": {},
     "output_type": "execute_result"
    }
   ],
   "source": [
    "df_melb.head()"
   ]
  },
  {
   "cell_type": "markdown",
   "metadata": {},
   "source": [
    "## Q3 Normalize all the attributes to be between [0,1]\n",
    "Normalize all the attribute columns in `df_melb` so they have a value between zero and one (inclusive). Save the (min,max) tuple used to normalize to a dictionary, `dict_normalize`, so we can apply it to the test set later.  The dataframe `df_melb` is now your \"model\" that you can use to classify new data points. (hint: during normalization you skip the target column)"
   ]
  },
  {
   "cell_type": "code",
   "execution_count": 8,
   "metadata": {},
   "outputs": [],
   "source": [
    "dict_normalize = dict()\n",
    "for col in df_melb.columns:\n",
    "    # your code here\n",
    "    if col != target_col : #skip target column\n",
    "        colMin = df_melb[col].min() #calculate min\n",
    "        colMax = df_melb[col].max() #calculate max\n",
    "        tup = (colMin, colMax) #make a tuple\n",
    "        \n",
    "        dict_normalize[col] = tup #save tuple to dict\n",
    "        df_melb[col] = (df_melb[col] - colMin) / (colMax - colMin)"
   ]
  },
  {
   "cell_type": "code",
   "execution_count": 9,
   "metadata": {},
   "outputs": [
    {
     "data": {
      "text/plain": [
       "{'Rooms': (1, 7),\n",
       " 'Price': (210000, 5020000),\n",
       " 'Distance': (0.7, 47.3),\n",
       " 'Postcode': (3000, 3810),\n",
       " 'Bathroom': (0, 5),\n",
       " 'Car': (0.0, 8.0),\n",
       " 'Landsize': (0, 41400),\n",
       " 'BuildingArea': (0.0, 3558.0),\n",
       " 'YearBuilt': (1850.0, 2016.0),\n",
       " 'unixtime': (1454544000, 1506124800)}"
      ]
     },
     "execution_count": 9,
     "metadata": {},
     "output_type": "execute_result"
    }
   ],
   "source": [
    "dict_normalize"
   ]
  },
  {
   "cell_type": "code",
   "execution_count": 10,
   "metadata": {},
   "outputs": [
    {
     "data": {
      "text/html": [
       "<div>\n",
       "<style scoped>\n",
       "    .dataframe tbody tr th:only-of-type {\n",
       "        vertical-align: middle;\n",
       "    }\n",
       "\n",
       "    .dataframe tbody tr th {\n",
       "        vertical-align: top;\n",
       "    }\n",
       "\n",
       "    .dataframe thead th {\n",
       "        text-align: right;\n",
       "    }\n",
       "</style>\n",
       "<table border=\"1\" class=\"dataframe\">\n",
       "  <thead>\n",
       "    <tr style=\"text-align: right;\">\n",
       "      <th></th>\n",
       "      <th>Rooms</th>\n",
       "      <th>Type</th>\n",
       "      <th>Price</th>\n",
       "      <th>Distance</th>\n",
       "      <th>Postcode</th>\n",
       "      <th>Bathroom</th>\n",
       "      <th>Car</th>\n",
       "      <th>Landsize</th>\n",
       "      <th>BuildingArea</th>\n",
       "      <th>YearBuilt</th>\n",
       "      <th>unixtime</th>\n",
       "    </tr>\n",
       "  </thead>\n",
       "  <tbody>\n",
       "    <tr>\n",
       "      <th>0</th>\n",
       "      <td>0.333333</td>\n",
       "      <td>t</td>\n",
       "      <td>0.108524</td>\n",
       "      <td>0.105150</td>\n",
       "      <td>0.124691</td>\n",
       "      <td>0.2</td>\n",
       "      <td>0.125</td>\n",
       "      <td>0.021836</td>\n",
       "      <td>0.030916</td>\n",
       "      <td>0.783133</td>\n",
       "      <td>0.289782</td>\n",
       "    </tr>\n",
       "    <tr>\n",
       "      <th>1</th>\n",
       "      <td>0.333333</td>\n",
       "      <td>h</td>\n",
       "      <td>0.164449</td>\n",
       "      <td>0.255365</td>\n",
       "      <td>0.024691</td>\n",
       "      <td>0.2</td>\n",
       "      <td>0.625</td>\n",
       "      <td>0.021232</td>\n",
       "      <td>0.036925</td>\n",
       "      <td>0.729039</td>\n",
       "      <td>0.659966</td>\n",
       "    </tr>\n",
       "    <tr>\n",
       "      <th>2</th>\n",
       "      <td>0.166667</td>\n",
       "      <td>u</td>\n",
       "      <td>0.082121</td>\n",
       "      <td>0.143777</td>\n",
       "      <td>0.228395</td>\n",
       "      <td>0.2</td>\n",
       "      <td>0.125</td>\n",
       "      <td>0.017440</td>\n",
       "      <td>0.036925</td>\n",
       "      <td>0.722892</td>\n",
       "      <td>0.155779</td>\n",
       "    </tr>\n",
       "    <tr>\n",
       "      <th>3</th>\n",
       "      <td>0.333333</td>\n",
       "      <td>h</td>\n",
       "      <td>0.113825</td>\n",
       "      <td>0.388412</td>\n",
       "      <td>0.209877</td>\n",
       "      <td>0.4</td>\n",
       "      <td>0.125</td>\n",
       "      <td>0.003502</td>\n",
       "      <td>0.036925</td>\n",
       "      <td>0.729039</td>\n",
       "      <td>0.835846</td>\n",
       "    </tr>\n",
       "    <tr>\n",
       "      <th>4</th>\n",
       "      <td>0.500000</td>\n",
       "      <td>h</td>\n",
       "      <td>0.106237</td>\n",
       "      <td>0.369099</td>\n",
       "      <td>0.101235</td>\n",
       "      <td>0.4</td>\n",
       "      <td>0.250</td>\n",
       "      <td>0.014565</td>\n",
       "      <td>0.036925</td>\n",
       "      <td>0.729039</td>\n",
       "      <td>0.988275</td>\n",
       "    </tr>\n",
       "  </tbody>\n",
       "</table>\n",
       "</div>"
      ],
      "text/plain": [
       "      Rooms Type     Price  Distance  Postcode  Bathroom    Car  Landsize  \\\n",
       "0  0.333333    t  0.108524  0.105150  0.124691       0.2  0.125  0.021836   \n",
       "1  0.333333    h  0.164449  0.255365  0.024691       0.2  0.625  0.021232   \n",
       "2  0.166667    u  0.082121  0.143777  0.228395       0.2  0.125  0.017440   \n",
       "3  0.333333    h  0.113825  0.388412  0.209877       0.4  0.125  0.003502   \n",
       "4  0.500000    h  0.106237  0.369099  0.101235       0.4  0.250  0.014565   \n",
       "\n",
       "   BuildingArea  YearBuilt  unixtime  \n",
       "0      0.030916   0.783133  0.289782  \n",
       "1      0.036925   0.729039  0.659966  \n",
       "2      0.036925   0.722892  0.155779  \n",
       "3      0.036925   0.729039  0.835846  \n",
       "4      0.036925   0.729039  0.988275  "
      ]
     },
     "execution_count": 10,
     "metadata": {},
     "output_type": "execute_result"
    }
   ],
   "source": [
    "df_melb.head()"
   ]
  },
  {
   "cell_type": "markdown",
   "metadata": {},
   "source": [
    "## Q4 Load in the Test data and prep it for classification\n",
    "Everything we did to our \"train\" set, we need to now do in our \"test\" set. "
   ]
  },
  {
   "cell_type": "code",
   "execution_count": 11,
   "metadata": {},
   "outputs": [],
   "source": [
    "df_test = pd.read_csv(\"melb_data_test.csv\")"
   ]
  },
  {
   "cell_type": "code",
   "execution_count": 12,
   "metadata": {},
   "outputs": [
    {
     "name": "stdout",
     "output_type": "stream",
     "text": [
      "The min unixtime is 1454544000 and the max unixtime is 1506124800\n"
     ]
    }
   ],
   "source": [
    "# Your code here to fix date\n",
    "df_test['Date'] = df_test['Date'].apply(lambda x : standardize_date(x))\n",
    "df_test['unixtime'] = pd.to_datetime(df_test['Date'], format='%d/%m/%Y')\n",
    "\n",
    "df_test['unixtime'] = df_test['unixtime'].apply(lambda x : int(x.timestamp()))\n",
    "df_test = df_test.drop(columns=\"Date\")\n",
    "\n",
    "print(\"The min unixtime is {:d} and the max unixtime is {:d}\".format(df_test['unixtime'].min(),df_test['unixtime'].max()))"
   ]
  },
  {
   "cell_type": "code",
   "execution_count": 13,
   "metadata": {},
   "outputs": [
    {
     "data": {
      "text/html": [
       "<div>\n",
       "<style scoped>\n",
       "    .dataframe tbody tr th:only-of-type {\n",
       "        vertical-align: middle;\n",
       "    }\n",
       "\n",
       "    .dataframe tbody tr th {\n",
       "        vertical-align: top;\n",
       "    }\n",
       "\n",
       "    .dataframe thead th {\n",
       "        text-align: right;\n",
       "    }\n",
       "</style>\n",
       "<table border=\"1\" class=\"dataframe\">\n",
       "  <thead>\n",
       "    <tr style=\"text-align: right;\">\n",
       "      <th></th>\n",
       "      <th>Rooms</th>\n",
       "      <th>Type</th>\n",
       "      <th>Price</th>\n",
       "      <th>Distance</th>\n",
       "      <th>Postcode</th>\n",
       "      <th>Bathroom</th>\n",
       "      <th>Car</th>\n",
       "      <th>Landsize</th>\n",
       "      <th>BuildingArea</th>\n",
       "      <th>YearBuilt</th>\n",
       "      <th>unixtime</th>\n",
       "    </tr>\n",
       "  </thead>\n",
       "  <tbody>\n",
       "    <tr>\n",
       "      <th>0</th>\n",
       "      <td>2</td>\n",
       "      <td>t</td>\n",
       "      <td>790000</td>\n",
       "      <td>11.2</td>\n",
       "      <td>3046</td>\n",
       "      <td>2</td>\n",
       "      <td>1.0</td>\n",
       "      <td>208</td>\n",
       "      <td>127.000000</td>\n",
       "      <td>2010.000000</td>\n",
       "      <td>1497657600</td>\n",
       "    </tr>\n",
       "    <tr>\n",
       "      <th>1</th>\n",
       "      <td>3</td>\n",
       "      <td>h</td>\n",
       "      <td>1355000</td>\n",
       "      <td>8.8</td>\n",
       "      <td>3072</td>\n",
       "      <td>1</td>\n",
       "      <td>2.0</td>\n",
       "      <td>916</td>\n",
       "      <td>131.379477</td>\n",
       "      <td>1971.020443</td>\n",
       "      <td>1476489600</td>\n",
       "    </tr>\n",
       "    <tr>\n",
       "      <th>2</th>\n",
       "      <td>5</td>\n",
       "      <td>h</td>\n",
       "      <td>2810000</td>\n",
       "      <td>6.3</td>\n",
       "      <td>3143</td>\n",
       "      <td>2</td>\n",
       "      <td>2.0</td>\n",
       "      <td>617</td>\n",
       "      <td>131.379477</td>\n",
       "      <td>1971.020443</td>\n",
       "      <td>1472342400</td>\n",
       "    </tr>\n",
       "    <tr>\n",
       "      <th>3</th>\n",
       "      <td>3</td>\n",
       "      <td>h</td>\n",
       "      <td>850000</td>\n",
       "      <td>10.5</td>\n",
       "      <td>3034</td>\n",
       "      <td>1</td>\n",
       "      <td>1.0</td>\n",
       "      <td>593</td>\n",
       "      <td>118.000000</td>\n",
       "      <td>1970.000000</td>\n",
       "      <td>1472860800</td>\n",
       "    </tr>\n",
       "    <tr>\n",
       "      <th>4</th>\n",
       "      <td>3</td>\n",
       "      <td>h</td>\n",
       "      <td>810000</td>\n",
       "      <td>38.0</td>\n",
       "      <td>3199</td>\n",
       "      <td>1</td>\n",
       "      <td>2.0</td>\n",
       "      <td>835</td>\n",
       "      <td>118.000000</td>\n",
       "      <td>1960.000000</td>\n",
       "      <td>1499472000</td>\n",
       "    </tr>\n",
       "  </tbody>\n",
       "</table>\n",
       "</div>"
      ],
      "text/plain": [
       "   Rooms Type    Price  Distance  Postcode  Bathroom  Car  Landsize  \\\n",
       "0      2    t   790000      11.2      3046         2  1.0       208   \n",
       "1      3    h  1355000       8.8      3072         1  2.0       916   \n",
       "2      5    h  2810000       6.3      3143         2  2.0       617   \n",
       "3      3    h   850000      10.5      3034         1  1.0       593   \n",
       "4      3    h   810000      38.0      3199         1  2.0       835   \n",
       "\n",
       "   BuildingArea    YearBuilt    unixtime  \n",
       "0    127.000000  2010.000000  1497657600  \n",
       "1    131.379477  1971.020443  1476489600  \n",
       "2    131.379477  1971.020443  1472342400  \n",
       "3    118.000000  1970.000000  1472860800  \n",
       "4    118.000000  1960.000000  1499472000  "
      ]
     },
     "execution_count": 13,
     "metadata": {},
     "output_type": "execute_result"
    }
   ],
   "source": [
    "# Your code here for imputation - must use dictionary from above!\n",
    "for col in df_test.columns:\n",
    "    if col != target_col:\n",
    "        df_test[col] = df_test[col].fillna(value = dict_imputation[col])\n",
    "df_test.head()        "
   ]
  },
  {
   "cell_type": "code",
   "execution_count": 14,
   "metadata": {},
   "outputs": [
    {
     "data": {
      "text/html": [
       "<div>\n",
       "<style scoped>\n",
       "    .dataframe tbody tr th:only-of-type {\n",
       "        vertical-align: middle;\n",
       "    }\n",
       "\n",
       "    .dataframe tbody tr th {\n",
       "        vertical-align: top;\n",
       "    }\n",
       "\n",
       "    .dataframe thead th {\n",
       "        text-align: right;\n",
       "    }\n",
       "</style>\n",
       "<table border=\"1\" class=\"dataframe\">\n",
       "  <thead>\n",
       "    <tr style=\"text-align: right;\">\n",
       "      <th></th>\n",
       "      <th>Rooms</th>\n",
       "      <th>Type</th>\n",
       "      <th>Price</th>\n",
       "      <th>Distance</th>\n",
       "      <th>Postcode</th>\n",
       "      <th>Bathroom</th>\n",
       "      <th>Car</th>\n",
       "      <th>Landsize</th>\n",
       "      <th>BuildingArea</th>\n",
       "      <th>YearBuilt</th>\n",
       "      <th>unixtime</th>\n",
       "    </tr>\n",
       "  </thead>\n",
       "  <tbody>\n",
       "    <tr>\n",
       "      <th>0</th>\n",
       "      <td>0.166667</td>\n",
       "      <td>t</td>\n",
       "      <td>0.120582</td>\n",
       "      <td>0.225322</td>\n",
       "      <td>0.056790</td>\n",
       "      <td>0.4</td>\n",
       "      <td>0.125</td>\n",
       "      <td>0.005024</td>\n",
       "      <td>0.035694</td>\n",
       "      <td>0.963855</td>\n",
       "      <td>0.835846</td>\n",
       "    </tr>\n",
       "    <tr>\n",
       "      <th>1</th>\n",
       "      <td>0.333333</td>\n",
       "      <td>h</td>\n",
       "      <td>0.238046</td>\n",
       "      <td>0.173820</td>\n",
       "      <td>0.088889</td>\n",
       "      <td>0.2</td>\n",
       "      <td>0.250</td>\n",
       "      <td>0.022126</td>\n",
       "      <td>0.036925</td>\n",
       "      <td>0.729039</td>\n",
       "      <td>0.425461</td>\n",
       "    </tr>\n",
       "    <tr>\n",
       "      <th>2</th>\n",
       "      <td>0.666667</td>\n",
       "      <td>h</td>\n",
       "      <td>0.540541</td>\n",
       "      <td>0.120172</td>\n",
       "      <td>0.176543</td>\n",
       "      <td>0.4</td>\n",
       "      <td>0.250</td>\n",
       "      <td>0.014903</td>\n",
       "      <td>0.036925</td>\n",
       "      <td>0.729039</td>\n",
       "      <td>0.345059</td>\n",
       "    </tr>\n",
       "    <tr>\n",
       "      <th>3</th>\n",
       "      <td>0.333333</td>\n",
       "      <td>h</td>\n",
       "      <td>0.133056</td>\n",
       "      <td>0.210300</td>\n",
       "      <td>0.041975</td>\n",
       "      <td>0.2</td>\n",
       "      <td>0.125</td>\n",
       "      <td>0.014324</td>\n",
       "      <td>0.033165</td>\n",
       "      <td>0.722892</td>\n",
       "      <td>0.355109</td>\n",
       "    </tr>\n",
       "    <tr>\n",
       "      <th>4</th>\n",
       "      <td>0.333333</td>\n",
       "      <td>h</td>\n",
       "      <td>0.124740</td>\n",
       "      <td>0.800429</td>\n",
       "      <td>0.245679</td>\n",
       "      <td>0.2</td>\n",
       "      <td>0.250</td>\n",
       "      <td>0.020169</td>\n",
       "      <td>0.033165</td>\n",
       "      <td>0.662651</td>\n",
       "      <td>0.871022</td>\n",
       "    </tr>\n",
       "  </tbody>\n",
       "</table>\n",
       "</div>"
      ],
      "text/plain": [
       "      Rooms Type     Price  Distance  Postcode  Bathroom    Car  Landsize  \\\n",
       "0  0.166667    t  0.120582  0.225322  0.056790       0.4  0.125  0.005024   \n",
       "1  0.333333    h  0.238046  0.173820  0.088889       0.2  0.250  0.022126   \n",
       "2  0.666667    h  0.540541  0.120172  0.176543       0.4  0.250  0.014903   \n",
       "3  0.333333    h  0.133056  0.210300  0.041975       0.2  0.125  0.014324   \n",
       "4  0.333333    h  0.124740  0.800429  0.245679       0.2  0.250  0.020169   \n",
       "\n",
       "   BuildingArea  YearBuilt  unixtime  \n",
       "0      0.035694   0.963855  0.835846  \n",
       "1      0.036925   0.729039  0.425461  \n",
       "2      0.036925   0.729039  0.345059  \n",
       "3      0.033165   0.722892  0.355109  \n",
       "4      0.033165   0.662651  0.871022  "
      ]
     },
     "execution_count": 14,
     "metadata": {},
     "output_type": "execute_result"
    }
   ],
   "source": [
    "# Your code here for scaling - must use dictionary from above!\n",
    "for col in df_test.columns:\n",
    "    if col != target_col:\n",
    "        colMin = dict_normalize[col][0]\n",
    "        colMax = dict_normalize[col][1]\n",
    "        df_test[col] = (df_test[col] - colMin) / (colMax - colMin)\n",
    "df_test.head()"
   ]
  },
  {
   "cell_type": "markdown",
   "metadata": {},
   "source": [
    "## Q5 Write the kNN classifier function\n",
    "Your function `knn_class`, should take four parameters, the training dataframe (that includes the target column), the hyper parameter `k`, the name of the target column, and a single observation row (a series generated from iterrows) of the test dataframe.  We are assuming that the parameter `df_train` contains all of the attributes, and the target class in the same dataframe. The function returns the predicted target classification for that observation. To find the distance between the single observation and the training data frame you may use the [L2 norm](https://numpy.org/doc/stable/reference/generated/numpy.linalg.norm.html)"
   ]
  },
  {
   "cell_type": "code",
   "execution_count": 15,
   "metadata": {},
   "outputs": [],
   "source": [
    "def knn_class(df_train, k, target_col, observation ):\n",
    "   # your code here\n",
    "    df_train['distance'] = df_train.apply(lambda x : np.linalg.norm(x.drop(index=target_col) - observation), axis=1)\n",
    "    df_train = df_train.sort_values(by='distance').reset_index(drop=True)\n",
    "    df_k = df_train[0:k]\n",
    "    return df_k[target_col].value_counts().index[0]"
   ]
  },
  {
   "cell_type": "markdown",
   "metadata": {},
   "source": [
    "## Q6 Compute the accuracy using different k values\n",
    "For each value of $k$ in the set $\\{1,3,13,25,50,100\\}$ calculate the class prediction for each oberservation in the test set, and the overall accuracy of the classifier.  Plot the accuracy as a function of $k$.\n",
    "\n",
    "Which value of $k$ would you chose?\n",
    "\n",
    "Note, this took 5 minutes on my computer. "
   ]
  },
  {
   "cell_type": "code",
   "execution_count": 16,
   "metadata": {},
   "outputs": [
    {
     "name": "stdout",
     "output_type": "stream",
     "text": [
      "k =  1 Acc =  0.10655737704918032\n",
      "k =  3 Acc =  0.6967213114754098\n",
      "k =  13 Acc =  0.6967213114754098\n",
      "k =  25 Acc =  0.6967213114754098\n",
      "k =  50 Acc =  0.19672131147540983\n",
      "k =  100 Acc =  0.19672131147540983\n"
     ]
    }
   ],
   "source": [
    "poss_k = [1,3,13,25,50,100] # possible k's\n",
    "acc_k = [0,0,0,0,0,0] # the accuracy at each value of k\n",
    "\n",
    "# Your code here\n",
    "acc_indx = 0\n",
    "for k in poss_k :\n",
    "    predictions = df_test.apply(lambda x : knn_class(df_melb, k, target_col, x.drop(index=target_col)), axis=1)\n",
    "    \n",
    "    correct = np.sum(predictions == df_test[target_col])\n",
    "    acc_k [acc_indx] = correct / len(predictions)\n",
    "    \n",
    "    print(\"k = \", k, \"Acc = \", acc_k[acc_indx])\n",
    "    acc_indx = acc_indx + 1\n"
   ]
  },
  {
   "cell_type": "code",
   "execution_count": 17,
   "metadata": {},
   "outputs": [
    {
     "data": {
      "image/png": "[encoded data removed]",
      "text/plain": [
       "<Figure size 432x288 with 1 Axes>"
      ]
     },
     "metadata": {
      "needs_background": "light"
     },
     "output_type": "display_data"
    }
   ],
   "source": [
    "# plot code here\n",
    "plt.plot(poss_k, acc_k, 'g-*')\n",
    "plt.xlabel('k')\n",
    "plt.ylabel('Accuracy')\n",
    "plt.title('Accuracy on Test Set for Varied k')\n",
    "plt.grid('on')\n",
    "plt.show()"
   ]
  },
  {
   "cell_type": "markdown",
   "metadata": {},
   "source": [
    "I would choose $k = 3 $, $ k = 13 $, or $ k = 25 $ because it yields the highest accuracy values, both at about 69.7%. "
   ]
  }
 ],
 "metadata": {
  "kernelspec": {
   "display_name": "Python 3",
   "language": "python",
   "name": "python3"
  },
  "language_info": {
   "codemirror_mode": {
    "name": "ipython",
    "version": 3
   },
   "file_extension": ".py",
   "mimetype": "text/x-python",
   "name": "python",
   "nbconvert_exporter": "python",
   "pygments_lexer": "ipython3",
   "version": "3.8.1"
  }
 },
 "nbformat": 4,
 "nbformat_minor": 4
}
