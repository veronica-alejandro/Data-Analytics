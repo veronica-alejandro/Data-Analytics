{
 "cells": [
  {
   "cell_type": "markdown",
   "metadata": {},
   "source": [
    "# Homework 3\n",
    "\n",
    "- Name: Veronica Alejandro\n",
    "- UT EID: vaa678\n",
    "\n",
    "- Name: Tori Garfield\n",
    "- UT EID: teg755\n",
    "\n",
    "## Normal and t distributions\n",
    "## t-test\n"
   ]
  },
  {
   "cell_type": "markdown",
   "metadata": {},
   "source": [
    "An experiment was conducted to determine the effect of children participating in a given meal preparation on calorie intake for that meal. Data are recorded below. \n",
    "\n",
    "Save the data to a format that can be read into python. Read the data in for analysis. Data is provided in two separted CSV files. \n",
    "\n",
    "* Use python to calculate the quantities and generate the visual summaries requested below. You will lose points if you are not utilizing python.\n",
    "\n",
    "* You can use scipy libary or other libraries to do your tests or you can implement them from scratch in python \n",
    "\n"
   ]
  },
  {
   "cell_type": "code",
   "execution_count": 111,
   "metadata": {},
   "outputs": [],
   "source": [
    "# Standard Headers\n",
    "# You are welcome to add additional headers here if you wish\n",
    "import pandas as pd\n",
    "import numpy as np\n",
    "import matplotlib.pyplot as plt\n",
    "import scipy as sp\n",
    "from scipy import stats\n",
    "import researchpy as rp\n",
    "# Enable inline mode for matplotlib so that Jupyter displays graphs\n",
    "%matplotlib inline"
   ]
  },
  {
   "cell_type": "code",
   "execution_count": 124,
   "metadata": {},
   "outputs": [],
   "source": [
    "participants = pd.read_csv('participants.csv')\n",
    "non_participants = pd.read_csv('nonparticipants.csv')"
   ]
  },
  {
   "cell_type": "markdown",
   "metadata": {},
   "source": [
    "# Question - 1\n",
    "Summarize the data by whether children participated in the meal preparation or not. Use an appropriately labelled table to show the results. Also include a graphical presentation that shows the distribution of calories for participants vs. non-participants. Describe the shape of each distribution and comment on the similarity (or lack thereof) between the distributions in each population. **(2 points)**\n"
   ]
  },
  {
   "cell_type": "code",
   "execution_count": 121,
   "metadata": {},
   "outputs": [
    {
     "data": {
      "image/png": "[encoded data removed]",
      "text/plain": [
       "<Figure size 432x288 with 1 Axes>"
      ]
     },
     "metadata": {
      "needs_background": "light"
     },
     "output_type": "display_data"
    },
    {
     "data": {
      "text/html": [
       "<div>\n",
       "<style scoped>\n",
       "    .dataframe tbody tr th:only-of-type {\n",
       "        vertical-align: middle;\n",
       "    }\n",
       "\n",
       "    .dataframe tbody tr th {\n",
       "        vertical-align: top;\n",
       "    }\n",
       "\n",
       "    .dataframe thead th {\n",
       "        text-align: right;\n",
       "    }\n",
       "</style>\n",
       "<table border=\"1\" class=\"dataframe\">\n",
       "  <thead>\n",
       "    <tr style=\"text-align: right;\">\n",
       "      <th></th>\n",
       "      <th>Participants</th>\n",
       "      <th>Non-participants</th>\n",
       "    </tr>\n",
       "  </thead>\n",
       "  <tbody>\n",
       "    <tr>\n",
       "      <th>Mean</th>\n",
       "      <td>410.079600</td>\n",
       "      <td>374.071818</td>\n",
       "    </tr>\n",
       "    <tr>\n",
       "      <th>Median</th>\n",
       "      <td>424.940000</td>\n",
       "      <td>374.740000</td>\n",
       "    </tr>\n",
       "    <tr>\n",
       "      <th>Sample Size</th>\n",
       "      <td>25.000000</td>\n",
       "      <td>22.000000</td>\n",
       "    </tr>\n",
       "    <tr>\n",
       "      <th>Standard Deviation</th>\n",
       "      <td>121.513786</td>\n",
       "      <td>133.139285</td>\n",
       "    </tr>\n",
       "    <tr>\n",
       "      <th>Variance</th>\n",
       "      <td>14765.600229</td>\n",
       "      <td>17726.069149</td>\n",
       "    </tr>\n",
       "    <tr>\n",
       "      <th>IQR</th>\n",
       "      <td>157.920000</td>\n",
       "      <td>149.165000</td>\n",
       "    </tr>\n",
       "  </tbody>\n",
       "</table>\n",
       "</div>"
      ],
      "text/plain": [
       "                    Participants  Non-participants\n",
       "Mean                  410.079600        374.071818\n",
       "Median                424.940000        374.740000\n",
       "Sample Size            25.000000         22.000000\n",
       "Standard Deviation    121.513786        133.139285\n",
       "Variance            14765.600229      17726.069149\n",
       "IQR                   157.920000        149.165000"
      ]
     },
     "execution_count": 121,
     "metadata": {},
     "output_type": "execute_result"
    }
   ],
   "source": [
    "fig, ax = plt.subplots()\n",
    "columns = [participants.values.flatten(), nonparticipants.values.flatten()]\n",
    "ax.boxplot(columns)\n",
    "ax.set_ylabel('Calories')\n",
    "ax.set_title('Effects of meal preparation on calorie intake')\n",
    "plt.xticks([1, 2], ['Participants', 'Nonparticipants'])\n",
    "plt.show()\n",
    "\n",
    "p_mean = participants.mean()\n",
    "p_median = participants.median()\n",
    "p_n = len(participants)\n",
    "p_std = participants.std()\n",
    "p_var = participants.var()\n",
    "p_iqr = sp.stats.iqr(participants)\n",
    "\n",
    "np_mean = non_participants.mean()\n",
    "np_median = non_participants.median()\n",
    "np_n = len(non_participants)\n",
    "np_std = non_participants.std()\n",
    "np_var = non_participants.var()\n",
    "np_iqr = sp.stats.iqr(non_participants)\n",
    "\n",
    "data = {'Participants': [p_mean[0], p_median[0], p_n, p_std[0], p_var[0], p_iqr], 'Non-participants': [np_mean[0], np_median[0], np_n, np_std[0], np_var[0], np_iqr]}\n",
    "table = pd.DataFrame(data, index=['Mean', 'Median', 'Sample Size', 'Standard Deviation', 'Variance', 'IQR'])\n",
    "table\n",
    "\n",
    "# The median calorie intake for participants is higher than for nonparticipants. In nonparticipants, there is one outlier \n",
    "# that consumed 688.77 calories, which can skew data. The minimum for nonparticipants was lower than \n",
    "# the minimum calorie intake for participants.\n",
    "# For nonparticipants, the mean and the median were almost equal. For participants, the mean was lower than the median.\n",
    "# The IQR for participants is slightly lower than non participants. The standard deviation is lower for participants\n",
    "# than non participants as well. \n"
   ]
  },
  {
   "cell_type": "markdown",
   "metadata": {},
   "source": [
    "# Question - 2 \n",
    "\n",
    "Does the mean calorie consumption for those who participated in the meal preparation differ from **425**? Formally test at the $\\alpha = 0.05$ level using the 5 steps outlined in the module. **(6 points)**\n"
   ]
  },
  {
   "cell_type": "code",
   "execution_count": 120,
   "metadata": {},
   "outputs": [
    {
     "data": {
      "text/plain": [
       "Ttest_1sampResult(statistic=array([-0.61393857]), pvalue=array([0.54503195]))"
      ]
     },
     "execution_count": 120,
     "metadata": {},
     "output_type": "execute_result"
    }
   ],
   "source": [
    "# 1. Set up the hypotheses and select the alpha level\n",
    "# H0 ∶ μ = 425 (the mean calorie consumption is 425)\n",
    "# H1 ∶ μ ≠ 425 (the mean calorie consumption is not 425)\n",
    "# α = 0.05\n",
    "\n",
    "# 2. Select the appropriate test statistic\n",
    "# n is small (n<30)\n",
    "\n",
    "# 3. State the decision rule\n",
    "# Theright hand tail probability is α/2 = 0.05/2 = 0.025.\n",
    "# So, with a df value of 24 and an upper tail probability of 0.025, the critical value from the standard\n",
    "# t-distribution is +- 2.064\n",
    "# Decision rule: Reject H0 if |t| ≥ 2.064, otherwise do not reject H0\n",
    "\n",
    "# 4. Compute the test statistic and the associated p-value\n",
    "sp.stats.ttest_1samp(participants, 425)\n",
    "# t = -0.61393857\n",
    "# |t| = 0.61393857\n",
    "\n",
    "# 5. Conclusion\n",
    "# We fail to reject H0 since 0.61393857 is not greater than or equal to 2.064\n",
    "# We do not have significant evidence at the α = 0.05 level to conclude that the mean calorie consumption for participants\n",
    "# is different from 425."
   ]
  },
  {
   "cell_type": "markdown",
   "metadata": {},
   "source": [
    "# Question -3 \n",
    "Calculate a **90%** confidence interval for the mean calorie intake for participants in the meal preparation. Interpret the confidence interval. **(6 points)**"
   ]
  },
  {
   "cell_type": "code",
   "execution_count": 117,
   "metadata": {},
   "outputs": [
    {
     "data": {
      "text/plain": [
       "(array([368.50044816]), array([451.65875184]))"
      ]
     },
     "execution_count": 117,
     "metadata": {},
     "output_type": "execute_result"
    }
   ],
   "source": [
    "mean = meal_part.mean()\n",
    "standardError = sp.stats.sem(participants)\n",
    "degreesFreedom = len(participants) - 1\n",
    "sp.stats.t.interval(alpha = .90, df = degreesFreedom, loc = mean, scale = standardError)\n",
    "\n",
    "# We are 90% confident that the true mean calorie intake for participants in the meal preparation\n",
    "# is between 368.5 and 451.7 calories."
   ]
  },
  {
   "cell_type": "markdown",
   "metadata": {},
   "source": [
    "# Question 4 \n",
    "Formally test whether or not participants consumed \n",
    "more calories than non-participants at the $\\alpha = 0.05$ level using the 5 steps procedure for hypothesis tests. **(6 points )**"
   ]
  },
  {
   "cell_type": "code",
   "execution_count": 116,
   "metadata": {},
   "outputs": [
    {
     "data": {
      "text/plain": [
       "(          Variable     N        Mean          SD         SE   95% Conf.  \\\n",
       " 0     participants  25.0  410.079600  121.513786  24.302757  359.921174   \n",
       " 1  nonparticipants  22.0  374.071818  133.139285  28.385391  315.041166   \n",
       " 2         combined  47.0  393.224894  126.988049  18.523111  355.939806   \n",
       " \n",
       "      Interval  \n",
       " 0  460.238026  \n",
       " 1  433.102470  \n",
       " 2  430.509982  ,\n",
       "                                Independent t-test  results\n",
       " 0  Difference (participants - nonparticipants) =   36.0078\n",
       " 1                           Degrees of freedom =   45.0000\n",
       " 2                                            t =    0.9694\n",
       " 3                        Two side test p value =    0.3376\n",
       " 4                       Difference < 0 p value =    0.8312\n",
       " 5                       Difference > 0 p value =    0.1688\n",
       " 6                                    Cohen's d =    0.2834\n",
       " 7                                    Hedge's g =    0.2786\n",
       " 8                                Glass's delta =    0.2963\n",
       " 9                                  Pearson's r =    0.1430)"
      ]
     },
     "execution_count": 116,
     "metadata": {},
     "output_type": "execute_result"
    }
   ],
   "source": [
    "# 1. Set up the hypotheses and select the alpha level\n",
    "# H0 ∶ μ1 = μ2 (participants and nonparticipants consumed the same amount of calories)\n",
    "# H1 ∶ μ1 > μ2 (participants consumed more calories than nonparticipants)\n",
    "# α = 0.05\n",
    "\n",
    "# 2. Select the appropriate test statistic\n",
    "# n is small and the sd of the population is unknown\n",
    "# 3. State the decision rule \n",
    "# Determine the appropriate critical value from the standard t-distribution table associated with a right \n",
    "# hand tail probability of α = 0.05. #Estimate the degrees of freedom by taking the minimum of the quantities n1 − 1 and n2 − 1.\n",
    "# n1 − 1 = 24 and n2 - 1 = 21, so the df value is 21 \n",
    "# Using the t-table for critical values, the appropriate critical value is 1.717 \n",
    "# Decision Rule: Reject H0 if t ≥ 1.717 Otherwise, do not reject H0\n",
    "\n",
    "# 4. Compute the test statistic and the associated p-value\n",
    "rp.ttest(participants['participants'], non_participants['nonparticipants'])\n",
    "\n",
    "# 5. Conclusion\n",
    "# Do not reject H0 since 0.9694 is less than 1.717 \n",
    "# There is not enough evidence at the α = 0.05 level to conclude that participants consumed more calories \n",
    "# than nonparticipants\n"
   ]
  },
  {
   "cell_type": "code",
   "execution_count": null,
   "metadata": {},
   "outputs": [],
   "source": []
  }
 ],
 "metadata": {
  "kernelspec": {
   "display_name": "Python 3",
   "language": "python",
   "name": "python3"
  },
  "language_info": {
   "codemirror_mode": {
    "name": "ipython",
    "version": 3
   },
   "file_extension": ".py",
   "mimetype": "text/x-python",
   "name": "python",
   "nbconvert_exporter": "python",
   "pygments_lexer": "ipython3",
   "version": "3.8.1"
  }
 },
 "nbformat": 4,
 "nbformat_minor": 4
}
