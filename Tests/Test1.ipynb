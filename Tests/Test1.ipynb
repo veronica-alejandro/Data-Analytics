{
 "cells": [
  {
   "cell_type": "code",
   "execution_count": 60,
   "metadata": {},
   "outputs": [
    {
     "name": "stdout",
     "output_type": "stream",
     "text": [
      "          DepDelay  ArrDelay\n",
      "DepDelay  1.000000  0.921177\n",
      "ArrDelay  0.921177  1.000000\n",
      "The correlation coefficient is 0.92177. There is a strong positive correlation between departure delay and arrival delay\n"
     ]
    }
   ],
   "source": [
    "import numpy as np\n",
    "import pandas as pd\n",
    "flights = pd.read_csv(\"https://github.com/kiat/Elements-of-Data-Analytics/blob/main/datasets/airline/HoustonAirline.csv?raw=true\") \n",
    "\n",
    "\n",
    "# Question 6 - Is there a correlation between departure delay \"DepDelay\" and arrival delay \"ArrDelay\"? \n",
    "# Consider only those flights that have a departure delay larger than one and an arrival delay larger than one.  \n",
    "# Calculate the correlation coefficient between these two vectors.\n",
    "\n",
    "flights6 = flights[flights['DepDelay'] > 1]\n",
    "flights6 = flights6[flights6['ArrDelay'] > 1]\n",
    "flights6 = flights6[['DepDelay', 'ArrDelay']]\n",
    "print(flightsCopy.corr())\n",
    "print('The correlation coefficient is 0.921177. There is a strong positive correlation between departure delay and arrival delay.')\n",
    "\n",
    "\n"
   ]
  },
  {
   "cell_type": "code",
   "execution_count": 82,
   "metadata": {},
   "outputs": [
    {
     "name": "stdout",
     "output_type": "stream",
     "text": [
      "                   ActualElapsedTime  Distance\n",
      "ActualElapsedTime           1.000000  0.966759\n",
      "Distance                    0.966759  1.000000\n",
      "\n",
      "The correlation coefficient between elapsed time and travel distance is 0.966759. There is a strong positive correlation between elapsed time and travel distance.\n",
      "\n",
      "The linear regression equation is: y = 0.128 * distance + 30.763.\n",
      "\n",
      "The coefficient of determination is 0.9346222043399014. The model is a good fit for the data and most of the variability is explained by the model since it is close to 1.\n"
     ]
    }
   ],
   "source": [
    "# imports\n",
    "from sklearn.linear_model import LinearRegression\n",
    "\n",
    "# Question 7 - Create a simple linear regression model between the actual elapsed flight time \n",
    "# \"ActualElapsedTime\" and the travel distance \"Distance\"\n",
    "\n",
    "# Fit a Simple linear regression model between these two values for predicting \n",
    "# \"ActualElapsedTime\" using the \"Distance\" as the explanatory variable. \n",
    "\n",
    "# Remove those flights that do not have a \"ActualElapsedTime\" or \"Distance\", or their values are NaN or Infinity.\n",
    "\n",
    "flights7 = flights[['ActualElapsedTime', 'Distance']].dropna()\n",
    "time = flights7['ActualElapsedTime']\n",
    "dist = flights7[['Distance']]\n",
    "\n",
    "reg = LinearRegression().fit(dist, time)\n",
    "yPred = reg.predict(dist)\n",
    "\n",
    "corr = flights7.corr()\n",
    "coeff = reg.coef_[0]\n",
    "intercept = reg.intercept_\n",
    "coeffDet = reg.score(dist, time) # R^2\n",
    "\n",
    "# 2 - What is the correlation coefficient between elapsed time and travel distance?\n",
    "\n",
    "print(corr)\n",
    "print()\n",
    "print('The correlation coefficient between elapsed time and travel distance is 0.966759. There is a strong positive correlation between elapsed time and travel distance.')\n",
    "print()\n",
    "\n",
    "# 3 - Provide your equation for this linear regression. \n",
    "print('The linear regression equation is: y = {} * distance + {}.'.format(round(coeff,3), round(intercept,3)))\n",
    "print()\n",
    "\n",
    "# 4 - Describe how well your model is fitting the data. Provide the R-Squared of your model. \n",
    "print('The coefficient of determination is {}. The model is a good fit for the data and most of the variability is explained by the model since it is close to 1.'.format(coeffDet)) \n",
    "\n"
   ]
  },
  {
   "cell_type": "code",
   "execution_count": 118,
   "metadata": {},
   "outputs": [
    {
     "name": "stdout",
     "output_type": "stream",
     "text": [
      "The intercept will be 52.864 and the slope will be 9.639999999999999.\n"
     ]
    }
   ],
   "source": [
    "# Question 8 - I want to fit a line to the sequence of points y = <101, 111, 122, 133, 144> \n",
    "# at x-axis points of x = <1, 2, 3, 4, 5> respectively, using a gradient descent algorithm.\n",
    "\n",
    "# As in the class slides, the prediction is y = B0 + B1 * x, and I'm using least square error for the loss.\n",
    "\n",
    "# If my current estimate for the line is the intercept B0 = 50, the slope B1 = 0.2, and the learning rate is 0.04, \n",
    "# then what will the estimate be after one iteration?\n",
    "\n",
    "X = np.arange(1, 6)\n",
    "y = [101, 111, 122, 133, 144]\n",
    "n = 5\n",
    "\n",
    "bCurr = 50 # intercept\n",
    "mCurr = 0.2 # slope\n",
    "learnRate = 0.04\n",
    "\n",
    "predY = mCurr * X + bCurr \n",
    "mGrad = (1.0/n) * sum (X * (predY - y))\n",
    "bGrad = (1.0/n) * sum (predY - y)\n",
    "    \n",
    "mCurr = mCurr - learnRate * mGrad\n",
    "bCurr = bCurr - learnRate * bGrad\n",
    "\n",
    "print('The intercept will be {} and the slope will be {}.'.format(bCurr, mCurr))"
   ]
  },
  {
   "cell_type": "code",
   "execution_count": null,
   "metadata": {},
   "outputs": [],
   "source": []
  }
 ],
 "metadata": {
  "kernelspec": {
   "display_name": "Python 3",
   "language": "python",
   "name": "python3"
  },
  "language_info": {
   "codemirror_mode": {
    "name": "ipython",
    "version": 3
   },
   "file_extension": ".py",
   "mimetype": "text/x-python",
   "name": "python",
   "nbconvert_exporter": "python",
   "pygments_lexer": "ipython3",
   "version": "3.8.1"
  }
 },
 "nbformat": 4,
 "nbformat_minor": 4
}
