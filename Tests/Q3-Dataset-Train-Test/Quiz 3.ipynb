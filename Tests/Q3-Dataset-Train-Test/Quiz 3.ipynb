{
 "cells": [
  {
   "cell_type": "code",
   "execution_count": 17,
   "metadata": {},
   "outputs": [],
   "source": [
    "# imports\n",
    "import pandas as pd\n",
    "from sklearn.linear_model import LogisticRegression\n",
    "from sklearn.model_selection import train_test_split\n",
    "from sklearn.metrics import accuracy_score\n",
    "\n",
    "dfTest = pd.read_csv('q3-test.csv')\n",
    "dfTrain = pd.read_csv('q3-train.csv')\n"
   ]
  },
  {
   "cell_type": "markdown",
   "metadata": {},
   "source": [
    "## Question 1 - Logistic Regression"
   ]
  },
  {
   "cell_type": "code",
   "execution_count": 20,
   "metadata": {},
   "outputs": [
    {
     "name": "stdout",
     "output_type": "stream",
     "text": [
      "The accuracy of the model is 0.855.\n"
     ]
    }
   ],
   "source": [
    "testX = dfTest[['Feature1', 'Feature2']]\n",
    "testY = dfTest['Label']\n",
    "\n",
    "trainX = dfTrain[['Feature1', 'Feature2']]\n",
    "trainY = dfTrain['Label']\n",
    "\n",
    "model = LogisticRegression()\n",
    "model.fit(trainX, trainY)\n",
    "\n",
    "yPred = model.predict(testX)\n",
    "\n",
    "score = accuracy_score(testY, yPred)\n",
    "print(\"The accuracy of the model is {}.\".format(round(score, 4)))"
   ]
  },
  {
   "cell_type": "markdown",
   "metadata": {},
   "source": [
    "## Question 2 - SVM"
   ]
  },
  {
   "cell_type": "code",
   "execution_count": 22,
   "metadata": {},
   "outputs": [
    {
     "name": "stdout",
     "output_type": "stream",
     "text": [
      "The accuracy of the model is 0.965. The accuracy score is higher than the logistic regression model because it performs better with outliers and with more data.\n"
     ]
    }
   ],
   "source": [
    "from sklearn import svm\n",
    "\n",
    "model = svm.SVC()\n",
    "model.fit(trainX, trainY)\n",
    "\n",
    "yPred = model.predict(testX)\n",
    "\n",
    "score = accuracy_score(testY, yPred)\n",
    "print(\"The accuracy of the model is {}. The accuracy score is higher than the logistic regression model because it performs better with outliers and with more data.\".format(round(score, 4)))"
   ]
  },
  {
   "cell_type": "markdown",
   "metadata": {},
   "source": [
    "## Question 3 - kNN"
   ]
  },
  {
   "cell_type": "code",
   "execution_count": 41,
   "metadata": {},
   "outputs": [
    {
     "name": "stdout",
     "output_type": "stream",
     "text": [
      "The accuracy of the model is 0.98.\n"
     ]
    }
   ],
   "source": [
    "from sklearn.neighbors import KNeighborsClassifier\n",
    "\n",
    "neigh = KNeighborsClassifier(n_neighbors = 2)\n",
    "neigh.fit(trainX, trainY)\n",
    "\n",
    "predictions = neigh.predict(testX)\n",
    "\n",
    "correct = np.sum(predictions == testY)\n",
    "\n",
    "print(\"The accuracy of the model is {}. The accuracy of this model is higher than both SVM and Logistic Regression.\".format(correct/len(predictions)))"
   ]
  },
  {
   "cell_type": "markdown",
   "metadata": {},
   "source": [
    "## Question 4 - Decision Tree"
   ]
  },
  {
   "cell_type": "code",
   "execution_count": 54,
   "metadata": {},
   "outputs": [
    {
     "name": "stdout",
     "output_type": "stream",
     "text": [
      "The accuracy of the model is 0.895.\n"
     ]
    }
   ],
   "source": [
    "from sklearn.tree import DecisionTreeClassifier\n",
    "\n",
    "tree_clf = DecisionTreeClassifier(max_depth = 2, random_state = 1234)\n",
    "tree_clf.fit(trainX, trainY)\n",
    "\n",
    "pred = tree_clf.predict(testX)\n",
    "\n",
    "score = accuracy_score(testY, pred)\n",
    "\n",
    "print(\"The accuracy of the model is {}.\".format(round(score, 4)))"
   ]
  },
  {
   "cell_type": "markdown",
   "metadata": {},
   "source": [
    "## Question 5 - AdaBoost Classifier"
   ]
  },
  {
   "cell_type": "code",
   "execution_count": 53,
   "metadata": {},
   "outputs": [
    {
     "name": "stdout",
     "output_type": "stream",
     "text": [
      "The accuracy of the model is 0.99.\n"
     ]
    }
   ],
   "source": [
    "from sklearn.ensemble import AdaBoostClassifier\n",
    "abc = AdaBoostClassifier(n_estimators=50, learning_rate=1)\n",
    "\n",
    "model = abc.fit(trainX, trainY)\n",
    "\n",
    "yPred = model.predict(testX)\n",
    "\n",
    "score = accuracy_score(testY, yPred)\n",
    "\n",
    "print(\"The accuracy of the model is {}.\".format(round(score, 4)))"
   ]
  }
 ],
 "metadata": {
  "kernelspec": {
   "display_name": "Python 3",
   "language": "python",
   "name": "python3"
  },
  "language_info": {
   "codemirror_mode": {
    "name": "ipython",
    "version": 3
   },
   "file_extension": ".py",
   "mimetype": "text/x-python",
   "name": "python",
   "nbconvert_exporter": "python",
   "pygments_lexer": "ipython3",
   "version": "3.8.1"
  }
 },
 "nbformat": 4,
 "nbformat_minor": 4
}
