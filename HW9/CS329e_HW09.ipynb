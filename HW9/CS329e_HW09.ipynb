{
  "cells": [
    {
      "cell_type": "markdown",
      "metadata": {
        "id": "vV5nNcSF_9GW"
      },
      "source": [
        "## C S 329E HW 9\n",
        "\n",
        "# Crossvalidation and hyperparameter selection\n",
        "\n",
        "Tori Garfield teg755\n",
        "Veronica Alejandro vaa678\n",
        "\n",
        "For this week's homework we are going to explore the cross validation testing methodology and applying that to get error estimates on the two algorithms we've used so far:\n",
        "  - Linear Regression\n",
        "  - Decision Tree classification\n",
        "  "
      ]
    },
    {
      "cell_type": "code",
      "execution_count": 44,
      "metadata": {
        "id": "UxOj3QeM_9Gb"
      },
      "outputs": [],
      "source": [
        "# import the libraries! If you want to add things here for visualization, please do, \n",
        "# but only use sklearn when prompted\n",
        "import pandas as pd\n",
        "import numpy as np\n",
        "import sklearn\n",
        "from sklearn import tree \n",
        "from sklearn.datasets import load_iris\n",
        "from sklearn.datasets import load_diabetes\n"
      ]
    },
    {
      "cell_type": "markdown",
      "metadata": {
        "id": "qf7KK2Bp_9Gf"
      },
      "source": [
        "# Part 1 - Calculate Generalized Error on Linear Regression with k-fold Cross Validation"
      ]
    },
    {
      "cell_type": "markdown",
      "metadata": {
        "id": "PZk71uQX_9Gg"
      },
      "source": [
        "## Q1.1 Load in the diabetes data set as a pandas dataframe and series.  \n",
        "Documentation is [here](https://scikit-learn.org/stable/modules/generated/sklearn.datasets.load_diabetes.html).  Name your features dataframe (the independent variables) `df_X` and your target (the dependent variable) series `s_y`"
      ]
    },
    {
      "cell_type": "code",
      "execution_count": 45,
      "metadata": {
        "id": "DuKqBDKQ_9Gi"
      },
      "outputs": [],
      "source": [
        "(df_X, s_y) = load_diabetes(return_X_y=True, as_frame=True)"
      ]
    },
    {
      "cell_type": "markdown",
      "metadata": {
        "id": "z3IxlXwS_9Gm"
      },
      "source": [
        "## Q1.2 Define a function that creates a linear least squares regression model \n",
        "This function should take in two parameters, `df_X`, and `s_y` and return the least squares regression model, $\\hat{\\beta}$ (using the notation from the ESLII book chapter 3 and HW2).  You can not use any libraries outside of pandas and numpy. "
      ]
    },
    {
      "cell_type": "code",
      "execution_count": 46,
      "metadata": {
        "id": "wqOBj1nW_9Go"
      },
      "outputs": [],
      "source": [
        "def get_linear_regression_model( df_X, s_y ):\n",
        "    \n",
        "    # turn y into a column vector\n",
        "#     s_y = s_y[:, np.newaxis]\n",
        "    \n",
        "    beta_hat = np.linalg.lstsq(df_X, s_y, rcond=-1)[0]\n",
        "    return beta_hat\n",
        "    "
      ]
    },
    {
      "cell_type": "markdown",
      "metadata": {
        "id": "i7aHAbaC_9Gr"
      },
      "source": [
        "## Q1.3 Define a function that partitions the dataframe and series data into dictionaries\n",
        "This function should take in three parameters, `df_X`, `s_y`, and `k`, and returns a tuple of two dictionaries.\n",
        "In both dictionaries the key is the `k` value (an integer from one to `k` inclusive).\n",
        "The first dictionary will have the dataframe of the training data that contains approximately $\\frac{1}{k}$ of the data (variation due to randomness is acceptable).\n",
        "The second dictionary will have the series of the target data that contains approximately $\\frac{1}{k}$ of the data (variation due to randomness is acceptable). Please note the targets _must match_ the same rows as the dataframe at this index, e.g, the length of the kth partition is the same for the dataframe and series.\n",
        "\n",
        "Call that function with $k=5$ and create the dictionaries `dict_k_df_X` and `dict_k_s_y`. Print out the number of rows in each fold.  Check that the number of data points in each partition totals the number of data points in the entire dataset. "
      ]
    },
    {
      "cell_type": "code",
      "execution_count": 47,
      "metadata": {
        "id": "v9ZJAdGg_9Gt"
      },
      "outputs": [],
      "source": [
        "def partition_data( df_X, s_y, k ):\n",
        "    dict_k_df_X = {}\n",
        "    dict_k_s_y = {}\n",
        "    indices_break = np.linspace(0, len(df_X), k+1, dtype = int)\n",
        "    for i in range(k):\n",
        "        dict_k_df_X[i+1] = df_X[indices_break[i]:indices_break[i+1]]\n",
        "        dict_k_s_y[i+1] = s_y[indices_break[i]:indices_break[i+1]]\n",
        "    return (dict_k_df_X, dict_k_s_y)"
      ]
    },
    {
      "cell_type": "code",
      "execution_count": 48,
      "metadata": {
        "id": "H2AlbsFu_9Gx"
      },
      "outputs": [],
      "source": [
        "(dict_k_df_X, dict_k_s_y) = partition_data( df_X, s_y, 5 )\n"
      ]
    },
    {
      "cell_type": "code",
      "execution_count": 49,
      "metadata": {
        "colab": {
          "base_uri": "https://localhost:8080/"
        },
        "id": "pN0qswg1_9Gz",
        "outputId": "c44508e7-7fa4-4742-874f-72b96d991ac4"
      },
      "outputs": [
        {
          "output_type": "stream",
          "name": "stdout",
          "text": [
            "Fold 1: Dataframe size: 88 Series length: 88\n",
            "Fold 2: Dataframe size: 88 Series length: 88\n",
            "Fold 3: Dataframe size: 89 Series length: 89\n",
            "Fold 4: Dataframe size: 88 Series length: 88\n",
            "Fold 5: Dataframe size: 89 Series length: 89\n",
            "Element size in each fold: 442 Rows in original dataframe 442\n"
          ]
        }
      ],
      "source": [
        "\n",
        "sumFolds = 0\n",
        "\n",
        "for key, values in dict_k_df_X.items():\n",
        "    sumFolds += len(values)\n",
        "    print(\"Fold \" + str(key) + \": Dataframe size: \" + str(len(values)) + \" Series length: \" + str(len(dict_k_s_y[key])))\n",
        "    \n",
        "print(\"Element size in each fold: \" + str(sumFolds) + \" Rows in original dataframe \" + str(len(df_X)))\n"
      ]
    },
    {
      "cell_type": "markdown",
      "metadata": {
        "id": "eBBVBBhD_9G1"
      },
      "source": [
        "## Q1.4 Define a function that calculates a regression metric\n",
        "This function should accept two series of equal length $n$ numpy arrays, `s_y`, and `s_y_hat`. The metric it should calculate is the mean absolute error, $MAE = \\sum\\limits_{i=1}^n\\frac{|{s\\_y_i - {s\\_y\\_hat}_i}|}{n}$ \n",
        "\n",
        "Test your function by using the vectors:\n",
        "```\n",
        "x = np.array([1,2,3])\n",
        "y = np.array([2,2,3])\n",
        "```\n"
      ]
    },
    {
      "cell_type": "code",
      "execution_count": 50,
      "metadata": {
        "id": "Q7WEls54_9G3"
      },
      "outputs": [],
      "source": [
        "def get_mae( s_y, s_y_hat):\n",
        "    \n",
        "    mae = np.sum(np.abs(s_y - s_y_hat) / len(s_y))\n",
        "            \n",
        "    return mae \n"
      ]
    },
    {
      "cell_type": "code",
      "execution_count": 51,
      "metadata": {
        "colab": {
          "base_uri": "https://localhost:8080/"
        },
        "id": "jtijeZ0Z_9G4",
        "outputId": "528113d5-0b13-49b6-b7db-a15ef11c07a8"
      },
      "outputs": [
        {
          "output_type": "execute_result",
          "data": {
            "text/plain": [
              "0.3333333333333333"
            ]
          },
          "metadata": {},
          "execution_count": 51
        }
      ],
      "source": [
        "# Test it \n",
        "x = np.array([1,2,3])\n",
        "y = np.array([2,2,3])\n",
        "get_mae(x,y)"
      ]
    },
    {
      "cell_type": "markdown",
      "metadata": {
        "id": "NupICvuZ_9G6"
      },
      "source": [
        "## Q1.5 Calculate the $MAE$ for each fold\n",
        "For each fold in your dictionaries, calculate the $MAE$.  Use the partition number key as the test set, and all other partitions as the train set. \n",
        "\n",
        "Print the min, max, and mean $MAE$ of your 5 folds. "
      ]
    },
    {
      "cell_type": "code",
      "execution_count": 52,
      "metadata": {
        "id": "jlM2kAT1_9G7"
      },
      "outputs": [],
      "source": [
        "mae = np.array([])\n",
        "\n",
        "for k in dict_k_df_X.keys():\n",
        "    train_df_X = pd.DataFrame()\n",
        "    train_s_y = pd.Series(dtype = float)\n",
        "    \n",
        "    for notK in dict_k_df_X.keys():\n",
        "        if notK != k:\n",
        "            train_df_X = pd.concat([train_df_X, dict_k_df_X[notK]])\n",
        "            train_s_y = train_s_y.append(dict_k_s_y[notK])\n",
        "            \n",
        "    train_df_X = pd.concat([pd.DataFrame({'intercept': np.ones(len(train_df_X))}, index = train_df_X.index), train_df_X], axis = 1)        \n",
        "    test_df_X = dict_k_df_X[k]\n",
        "    test_s_y = dict_k_s_y[k]\n",
        "    test_df_X = pd.concat([pd.DataFrame({'intercept': np.ones(len(test_df_X))}, index = test_df_X.index), test_df_X], axis = 1)        \n",
        "\n",
        "    beta_hat2 = get_linear_regression_model(train_df_X, train_s_y)\n",
        "    s_y_hat = test_df_X.apply(lambda x : np.matmul(x, beta_hat2), axis = 1)\n",
        "  \n",
        "    mae = np.append( mae, get_mae(test_s_y,s_y_hat) ) "
      ]
    },
    {
      "cell_type": "code",
      "execution_count": 53,
      "metadata": {
        "colab": {
          "base_uri": "https://localhost:8080/"
        },
        "id": "zEPHwHO1_9G8",
        "outputId": "cd9fd1ac-d98f-48d4-967a-9e51aec9368a"
      },
      "outputs": [
        {
          "output_type": "stream",
          "name": "stdout",
          "text": [
            "Minimum MAE: 42.54819305780144\n",
            "Maximum MAE: 47.93278393155872\n",
            "Mean MAE: 44.27849621230541\n"
          ]
        }
      ],
      "source": [
        "print('Minimum MAE: {}'.format(mae.min()))\n",
        "print('Maximum MAE: {}'.format(mae.max()))\n",
        "print('Mean MAE: {}'.format(mae.mean()))\n"
      ]
    },
    {
      "cell_type": "markdown",
      "metadata": {
        "id": "wA8BKtsJ_9G9"
      },
      "source": [
        "# Part 2 - Find the best hyperparameter to use in a Decision Tree "
      ]
    },
    {
      "cell_type": "markdown",
      "metadata": {
        "id": "f5eik4c__9G-"
      },
      "source": [
        "## Q2.1 Load the iris data in as a pandas dataframe and a series\n",
        "Documentation is [here](https://scikit-learn.org/stable/modules/generated/sklearn.datasets.load_iris.html). Name your features dataframe (the independent variables) `df_X` and your classification target (the dependent variable) series `s_y`"
      ]
    },
    {
      "cell_type": "code",
      "execution_count": 54,
      "metadata": {
        "id": "KgUReQ7p_9G_"
      },
      "outputs": [],
      "source": [
        "iris = load_iris()\n",
        "df_X = iris['data']\n",
        "s_y = iris['target']"
      ]
    },
    {
      "cell_type": "markdown",
      "metadata": {
        "id": "YkWG1BKy_9HA"
      },
      "source": [
        "## Q2.2 Partition `df_X` and `s_y` into $5$ partitions of roughly equal size\n",
        "Make 2 dictionaries, with the key of each dictionary the fold number.  The value of the dictionary `dict_k_df_X` is the $k^{th}$ partition of the data, and the value of the dictionary `dict_k_s_y` is the corresponding $k^{th}$ target classification.  Print out the number of rows in each fold.  Check that the number of data points in each partition totals the number of data points in the entire dataset. "
      ]
    },
    {
      "cell_type": "code",
      "execution_count": 55,
      "metadata": {
        "colab": {
          "base_uri": "https://localhost:8080/"
        },
        "id": "h-beWQK6_9HC",
        "outputId": "98cfa768-4d72-463d-edf6-8b19b9f3598e"
      },
      "outputs": [
        {
          "output_type": "stream",
          "name": "stdout",
          "text": [
            "Fold 1: Dataframe size: 30, Series length: 30\n",
            "Fold 2: Dataframe size: 30, Series length: 30\n",
            "Fold 3: Dataframe size: 30, Series length: 30\n",
            "Fold 4: Dataframe size: 30, Series length: 30\n",
            "Fold 5: Dataframe size: 30, Series length: 30\n",
            "Element size in each fold: 150\n",
            "Rows in original dataframe: 150\n"
          ]
        }
      ],
      "source": [
        "(dict_k_df_X, dict_k_s_y) = partition_data(df_X, s_y, 5)\n",
        "\n",
        "sumFolds = 0\n",
        "\n",
        "for key, values in dict_k_df_X.items():\n",
        "    sumFolds += len(values)\n",
        "    print(\"Fold \" + str(key) + \": Dataframe size: \" + str(len(values)) + \", Series length: \" + str(len(dict_k_s_y[key])))\n",
        "    \n",
        "print(\"Element size in each fold: \" + str(sumFolds) + \"\\nRows in original dataframe: \" + str(len(df_X)))\n",
        "\n"
      ]
    },
    {
      "cell_type": "markdown",
      "metadata": {
        "id": "N9DOG2sS_9HD"
      },
      "source": [
        "## Q2.3 Define a function that calculates accuracy\n",
        "The function should accept two series and compare each element for equality.  The accuracy is the number of equal elements divided by the total number of elements.\n",
        "\n",
        "Test your accuracy function by calling it with the `s_y` loaded from the iris data set and an array of the same length containing all $1$ values. "
      ]
    },
    {
      "cell_type": "code",
      "execution_count": 56,
      "metadata": {
        "id": "Vj9uw-Mh_9HE"
      },
      "outputs": [],
      "source": [
        "def get_acc(s_1, s_2):\n",
        "    length = len(s_1)\n",
        "    sumEqual = 0.0;\n",
        "    for i in range(length):\n",
        "        if s_1[i] == s_2[i]:\n",
        "            sumEqual += 1\n",
        "    return sumEqual / length     \n"
      ]
    },
    {
      "cell_type": "code",
      "execution_count": 57,
      "metadata": {
        "colab": {
          "base_uri": "https://localhost:8080/"
        },
        "id": "qtc6K0R0_9HF",
        "outputId": "405667bf-9171-46af-ca91-d5e9350a653a"
      },
      "outputs": [
        {
          "output_type": "execute_result",
          "data": {
            "text/plain": [
              "0.3333333333333333"
            ]
          },
          "metadata": {},
          "execution_count": 57
        }
      ],
      "source": [
        "get_acc(s_y,np.ones(len(s_y)))"
      ]
    },
    {
      "cell_type": "markdown",
      "metadata": {
        "id": "ndJpY1eX_9HH"
      },
      "source": [
        "## Q2.4 Using Nested Cross validation, find the best hyperparameter\n",
        "Use the [Decision Tree Classifier](https://scikit-learn.org/stable/modules/tree.html#classification) class to build a decision tree inside of a 5-fold cross validation loop.  The partitions you already created in 2.2 will be the outer loop.  In the inside loop you should use 4-fold cross validation (so you don't have to partition _again_) to find the best value for `min_impurity_decrease`.  Use the Gini Index as your impurity measure. \n",
        "    Calculate the mean accuracy across the 4 folds of your inner loop for all the candidate `min_impurity_decrease` values, and print the value.  Use the array `np.array([0.1,0.25,0.3,0.4])` as the candidates for the best hyperparameter. If there is a tie (two `min_impurity_decrease` values give the same highest accuracy), choose the lowest `min_impurity_decrease` value. \n",
        "\n",
        "For each inner loop, select the best `min_impurity_decrease` and train the outer fold training data on using that value. \n",
        "\n",
        "For each inner loop, your output should look something like this:\n",
        "```\n",
        "Testing 0.10 min impurity decrease\n",
        "\tAverage accuracy over 4 folds is 0.95\n",
        "Testing 0.25 min impurity decrease\n",
        "\tAverage accuracy over 4 folds is 0.86\n",
        "Testing 0.30 min impurity decrease\n",
        "\tAverage accuracy over 4 folds is 0.63\n",
        "Testing 0.40 min impurity decrease\n",
        "\tAverage accuracy over 4 folds is 0.27\n",
        "\n",
        "Best min impurity decrease is 0.1\n",
        "\n",
        "```"
      ]
    },
    {
      "cell_type": "code",
      "execution_count": 58,
      "metadata": {
        "colab": {
          "base_uri": "https://localhost:8080/"
        },
        "id": "BJbMVF3D_9HI",
        "outputId": "c18cde3d-a4c7-4d98-cb72-2d162d619e28"
      },
      "outputs": [
        {
          "output_type": "stream",
          "name": "stdout",
          "text": [
            "Testing 0.10 min impurity decrease\n",
            "\tAverage accuracy over 4 folds is 0.73\n",
            "Testing 0.25 min impurity decrease\n",
            "\tAverage accuracy over 4 folds is 0.52\n",
            "Testing 0.30 min impurity decrease\n",
            "\tAverage accuracy over 4 folds is 0.17\n",
            "Testing 0.40 min impurity decrease\n",
            "\tAverage accuracy over 4 folds is 0.08\n",
            "\n",
            "Best min impurity decrease is 0.1\n",
            "\n",
            "Testing 0.10 min impurity decrease\n",
            "\tAverage accuracy over 4 folds is 0.58\n",
            "Testing 0.25 min impurity decrease\n",
            "\tAverage accuracy over 4 folds is 0.23\n",
            "Testing 0.30 min impurity decrease\n",
            "\tAverage accuracy over 4 folds is 0.08\n",
            "Testing 0.40 min impurity decrease\n",
            "\tAverage accuracy over 4 folds is 0.0\n",
            "\n",
            "Best min impurity decrease is 0.1\n",
            "\n",
            "Testing 0.10 min impurity decrease\n",
            "\tAverage accuracy over 4 folds is 0.9\n",
            "Testing 0.25 min impurity decrease\n",
            "\tAverage accuracy over 4 folds is 0.58\n",
            "Testing 0.30 min impurity decrease\n",
            "\tAverage accuracy over 4 folds is 0.58\n",
            "Testing 0.40 min impurity decrease\n",
            "\tAverage accuracy over 4 folds is 0.17\n",
            "\n",
            "Best min impurity decrease is 0.1\n",
            "\n",
            "Testing 0.10 min impurity decrease\n",
            "\tAverage accuracy over 4 folds is 0.71\n",
            "Testing 0.25 min impurity decrease\n",
            "\tAverage accuracy over 4 folds is 0.5\n",
            "Testing 0.30 min impurity decrease\n",
            "\tAverage accuracy over 4 folds is 0.25\n",
            "Testing 0.40 min impurity decrease\n",
            "\tAverage accuracy over 4 folds is 0.17\n",
            "\n",
            "Best min impurity decrease is 0.1\n",
            "\n",
            "Testing 0.10 min impurity decrease\n",
            "\tAverage accuracy over 4 folds is 0.82\n",
            "Testing 0.25 min impurity decrease\n",
            "\tAverage accuracy over 4 folds is 0.83\n",
            "Testing 0.30 min impurity decrease\n",
            "\tAverage accuracy over 4 folds is 0.58\n",
            "Testing 0.40 min impurity decrease\n",
            "\tAverage accuracy over 4 folds is 0.17\n",
            "\n",
            "Best min impurity decrease is 0.25\n",
            "\n"
          ]
        }
      ],
      "source": [
        "\n",
        "# Outer loop\n",
        "outer_acc = np.array([])\n",
        "possible_min_impurity_decrease = np.array([0.1,0.25,0.3,0.4])\n",
        "for k in dict_k_df_X.keys():\n",
        "\n",
        "    train_df_X = pd.DataFrame()\n",
        "    train_s_y = pd.Series(dtype = float)\n",
        "\n",
        "    avg_acc = np.array([])\n",
        "    \n",
        "    for pos_min_impurity in possible_min_impurity_decrease:\n",
        "        \n",
        "        imp_acc = np.array([])\n",
        "        print('Testing {:.2f} min impurity decrease'.format(pos_min_impurity))\n",
        "\n",
        "        # Inner loop cross validation code here (use 4 folds, where the fold does not include k)\n",
        "        innerKeys = list(dict_k_df_X.keys())\n",
        "        innerKeys.remove(k) # fold does not include k\n",
        "\n",
        "        for innerK in innerKeys:\n",
        "          inner_train_df_X = pd.DataFrame()\n",
        "          inner_train_s_y = pd.Series(dtype = float)\n",
        "\n",
        "          for notInnerK in innerKeys:\n",
        "            if notInnerK != innerK:\n",
        "              df =  pd.DataFrame(dict_k_df_X[notInnerK])\n",
        "              series = pd.Series(dict_k_s_y[notInnerK])\n",
        "              inner_train_df_X = pd.concat([inner_train_df_X, df])\n",
        "              inner_train_s_y = inner_train_s_y.append(series) \n",
        "\n",
        "          inner_test_df_X = dict_k_df_X[innerK] \n",
        "          inner_test_s_y = dict_k_s_y[innerK]   \n",
        "\n",
        "          # inner decision tree\n",
        "          clf = tree.DecisionTreeClassifier(criterion = 'gini', min_impurity_decrease = pos_min_impurity)\n",
        "          clf = clf.fit(inner_train_df_X, inner_train_s_y)\n",
        "\n",
        "          accInner = get_acc(inner_test_s_y, clf.predict(inner_test_df_X))\n",
        "          imp_acc = np.append(imp_acc, accInner)\n",
        "\n",
        "        avg_acc = np.append(avg_acc, imp_acc.mean()) # append mean accuracy\n",
        "        print(\"\\tAverage accuracy over 4 folds is \" + str(np.round(imp_acc.mean(), 2)))\n",
        "\n",
        "    # Use best min impurity decrease to train model\n",
        "    idxBest = np.argmin(1 - avg_acc)\n",
        "    bestMinImpDec = possible_min_impurity_decrease[idxBest]\n",
        "    print('\\nBest min impurity decrease is {}\\n'.format(bestMinImpDec))\n",
        "    \n",
        "    # outer accuracy calculation \n",
        "    for notK in dict_k_df_X.keys():\n",
        "      if notK != k:\n",
        "        df2 = pd.DataFrame(dict_k_df_X[notK])\n",
        "        train_df_X = pd.concat([train_df_X, df2])\n",
        "        series2 = pd.Series(dict_k_s_y[notK])\n",
        "        train_s_y = train_s_y.append(series2)\n",
        "    test_df_X = dict_k_df_X[k] \n",
        "    test_s_y = dict_k_s_y[k]\n",
        "    # outer decision tree\n",
        "    clf = tree.DecisionTreeClassifier(criterion = 'gini', min_impurity_decrease = bestMinImpDec)\n",
        "    clf = clf.fit(train_df_X, train_s_y)\n",
        "    this_acc = get_acc(test_s_y, clf.predict(test_df_X))\n",
        "    outer_acc = np.append(outer_acc, this_acc) # make sure and calculate this_acc in your loop"
      ]
    },
    {
      "cell_type": "markdown",
      "metadata": {
        "id": "xce5WKPW_9HJ"
      },
      "source": [
        "## Q2.5 Show the generalized performance of the classifier \n",
        "Show the generalized performance of the classifier by printing the min, max, and mean accuracy of the outer fold test sets."
      ]
    },
    {
      "cell_type": "code",
      "execution_count": 59,
      "metadata": {
        "colab": {
          "base_uri": "https://localhost:8080/"
        },
        "id": "hBQxWtBJ_9HJ",
        "outputId": "f4902977-dd47-43c9-d0ca-d22cf9979684"
      },
      "outputs": [
        {
          "output_type": "stream",
          "name": "stdout",
          "text": [
            "Min accuracy: 0.0\n",
            "Max accuracy: 1.0\n",
            "Mean accuracy: 0.75\n"
          ]
        }
      ],
      "source": [
        "print('Min accuracy: {}'.format(np.round(outer_acc.min(), 2)))\n",
        "print('Max accuracy: {}'.format(np.round(outer_acc.max(), 2)))\n",
        "print('Mean accuracy: {}'.format(np.round(outer_acc.mean(), 2)))"
      ]
    }
  ],
  "metadata": {
    "kernelspec": {
      "display_name": "Python 3",
      "language": "python",
      "name": "python3"
    },
    "language_info": {
      "codemirror_mode": {
        "name": "ipython",
        "version": 3
      },
      "file_extension": ".py",
      "mimetype": "text/x-python",
      "name": "python",
      "nbconvert_exporter": "python",
      "pygments_lexer": "ipython3",
      "version": "3.8.1"
    },
    "colab": {
      "name": "CS329e_HW09.ipynb",
      "provenance": []
    }
  },
  "nbformat": 4,
  "nbformat_minor": 0
}